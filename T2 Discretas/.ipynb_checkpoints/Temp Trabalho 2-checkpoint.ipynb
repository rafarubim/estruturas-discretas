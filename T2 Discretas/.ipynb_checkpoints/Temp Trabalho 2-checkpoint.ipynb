{
 "cells": [
  {
   "cell_type": "markdown",
   "metadata": {},
   "source": [
    "# Trabalho 2 - Estruturas Discretas\n",
    "\n",
    "**PUC-Rio, INF1631, Data de entrega: 03/07/2017**\n",
    "\n",
    "- **Alunos/Matrículas:**\n",
    "    - **Rafael Rubim Cabral - 1511068**\n",
    "    - **Gabriela Bevilacqua Gutierrez - 1511241**\n",
    "    - **Gabriel de Andrade Busquim - 1510549**"
   ]
  },
  {
   "cell_type": "markdown",
   "metadata": {},
   "source": [
    "## Questão 1:\n",
    "\n",
    "**1. Seja um grafo conexo $G = (V,E)$, não-orientado, e $w_{e}$, para $e ∈ E$ os pesos associados às arestas de $G$. Seja o problema de encontrar a árvore geradora de peso máximo de $G$ que contém o vértice $1 ∈ V$ e o teorema abaixo.\n",
    "Teorema 1 ($K$): Sabe-se encontrar a árvore de peso máximo de $G = (V,E)$ que contém o vértice 1 e possui $K$ vértices.**"
   ]
  },
  {
   "cell_type": "markdown",
   "metadata": {},
   "source": [
    "## Questão 2:\n",
    "\n",
    "**2. *Walk of a King*<br />\n",
    "&emsp;Considere um tabuleiro de xadrez e um rei que está inicialmente na posição (1,1) (as posições do tabuleiro são representadas por $(i,j)$ onde $1 ≤ i ≤ 8$ e $1 ≤ j ≤ 8$). Para cada posição do tabuleiro estão associados um prêmio $p_{ij}$ e um consumo $q_{ij}$ (o prêmio pode ser em USD(!!) e o consumo em litros de gasolina, por exemplo). Os prêmios e os consumos assumem somente valores positivos. O rei tem inicialmente $Q$ unidades para consumir e pode passar quantas vezes quiser em cada posição do tabuleiro e a cada vez receber o prêmio e, naturalmente, consumir os seus recursos. Ao ﬁnal (do passeio) o rei tem que estar de volta na posição (1,1).**"
   ]
  },
  {
   "cell_type": "markdown",
   "metadata": {},
   "source": [
    "### Prova do teorema por indução:\n",
    "\n",
    "&emsp;Com a gasolina inicial $Q$, precisa-se de um teorema que dirá que se sabe encontrar um caminho para percorrer que inicie na casa do tabuleiro (1, 1) e termine na casa (1, 1) que tenha produto final de prêmios maximizado e que gaste no máximo a gasolina $Q$. Para isso, $k$ será o parâmetro indutivo, que é a quantidade exata de gasolina restante no tanque do rei após percorrer o caminho. No caso base $k = Q$ e passo indutivo para $k - 1$, prova-se que é possível encontrar um caminho (se existir) que maximize os prêmios para cada $k$. No final, o caminho de maior produto total de $k = Q$ até $k = 0$ será o melhor caminho (pois não obrigatoriamente deve-se usar toda a gasolina do tanque), se existir. Como reforço de hipótese para alcançar esse objetivo, será provado que se sabe encontrar o caminho que não necessariamente termine na casa (1, 1), mas em qualquer casa do tabuleiro. Apesar de desnecessário, também se generalizará a casa inicial e o tamanho do tabuleiro, o que quase não muda a prova por indução. Note que não assumiremos custos nulos ou negativos nas casas, pois se fosse o caso, haveriam caminhos que poderiam ser percorridos infinitamente.\n",
    "\n",
    "&emsp;Teorema 2 $(k, c)$:&emsp;Seja um tabuleiro de dimensões M x N com consumos/prêmios definidos. Para um tanque de gasolina inicial $Q$ e casa inicial $I$, sabe-se encontrar o caminho de maior produto de prêmios total que inicia na casa $I$ e termina na casa $c$, terminando com exatamente $k$ litros de gasolina no tanque final.\n",
    "\n",
    "##### Teorema do caso base\n",
    "\n",
    "&emsp;Como não assumimos custos nulos ou negativos, qualquer movimentação a partir da casa inicial resultará num tanque final menor que $Q$ inicial. Portanto, no caso base $k = Q$, há apenas um caminho possível: não se movimentar de qualquer jeito, começando e terminando na casa inicial $I$. Então, sabe-se que para cada possível casa final $c$, o caminho será: inexistente, caso $c \\neq I$, ou não fazer nenhum movimento, caso $c = I$.<br />\n",
    "&emsp;Representaremos daqui por diante os caminhos como uma sequência de casas, inclusive a inicial e a final, pelas quais se passa. Portanto, para $c \\neq I$, teríamos caminhos vazios [] e para $c = I$, um caminho somente com a casa inicial $I$ (Ex. para $I$ = 1,1: [(1, 1)]).\n",
    "\n",
    "##### Teorema do passo indutivo\n",
    "\n",
    "- Hipótese indutiva (indução forte): Para todo par de casa $c$ e tanque final $n$, $n = Q..k$, sabe-se encontrar o melhor caminho que chega na casa $c$ com tanque final $n$, se existir.\n",
    "\n",
    "&emsp;Precisamos provar que o mesmo vale para chegar em todas as casas, com tanque final $k-1$. Vamos provar isso para uma casa qualquer $c$. Para existir um caminho que chegue nessa casa, deve-se ter passado logo anteriormente por uma casa adjacente a $c$ (seguindo os critérios de movimentação do rei no xadrez). Uma casa pode ter até 8 casas adjcentes a ela, portanto podem haver até no máximo 8 casas pelas quais um caminho que termina em $c$ deve ter passado como penúltima casa. Há duas opções: um caminho que termine em $c$ com tanque $k-1$ pode existir (nesse caso sempre há um melhor caminho) ou não. Suponha que o melhor caminho que termina em $c$ existe e passa pela penúltima casa $c_{2}$. Ao andar de $c_{2}$ para $c$, o rei deve consumir o custo de $c$, que chamaremos surpreendentemente de $custoC$. Como o caminho termina com tanque $k-1$, então na penúltima casa ainda deveria haver exatamente $k-1+custoC$ no tanque. Supomos que o caminho existe, portanto $k-1+custoC$ deve ser menor ou igual a $Q$ (pois não se pode ter mais gasolina que a inicial). Como $custoC$ é positivo inteiro, ainda, tem-se que $k-1+custoC$ é maior ou igual a $k$. Assim, por hipótese indutiva, como $k-1+custoC$ está entre $Q..k$ conhece-se o melhor caminho até $c_{2}$ a partir da casa inicial $I$ que termina com a gasolina $k-1+custoC$. Como se supôs que se sabe o melhor caminho para chegar em $c$ com penúltima casa $c_{2}$, então se ignorarmos o passo final desse caminho e considerarmos apenas o subcaminho de $I$ até $c_{2}$, então esse subcaminho deve ser o melhor que se conhece, como dito anteriormente. Como já discutido antes, há até no máximo 8 opções de penúltima casa $c_{2}$ pela qual um caminho que termina em $c$ passará. Portanto, pode-se testar a existência de um caminho assim escolhendo cada casa adjacente a $c$ e vendo por hipótese indutiva se há um caminho até ela de tanque final $k-1+custoC$, pois se existir, precisaríamos apenas de mais um passo de $c2$ até $c$ e teríamos um caminho que termina em $c$ com tanque $k-1$. Se $k-1+custoC$ for maior que $Q$, temos certeza que nenhum caminho existe, pois seria impossível ter mais de $Q$ gasolina no tanque antes de entrar em $c$. Se não houver possibilidade de caminhos, sabe-se determinar que um caminho até $c$ de tanque final $k-1$ não existe. Caso exista uma possibilidade de caminho, sabe-se que o produto total desse caminho é o produto total do caminho que termina no penúltimo vértice (adjacente a $c$) mais o $prêmioC$. Portanto sabe-se determinar que o melhor caminho que termina em $c$ é aquele que passa por uma casa adjacente $c2$ dentre um conjunto finito de casas adjacentes, tal que o produto total do caminho até $c2$ com tanque $k-1+custoC$ é maior do que qualquer outra casa adjacente de $c$."
   ]
  },
  {
   "cell_type": "markdown",
   "metadata": {},
   "source": [
    "![](rei-gasolina.png)"
   ]
  },
  {
   "cell_type": "markdown",
   "metadata": {},
   "source": [
    "### Surgimento / Explicação do algoritmo:\n",
    "\n",
    "&emsp;Apesar da prova por indução sugerir um algoritmo recursivo, acreditamos que a recursão nesse caso não seja ideal, pois a recursão nem sempre é uma boa opção em situações de muitas chamadas recursivas, devido à limitação da linguagem Python de lidar com níveis muito baixos de recursão.<br />\n",
    "&emsp;Abordando o problema de um ponto um pouco diferente: afinal o que se deseja ao final é calcular o melhor caminho da casa (1, 1) do tabuleiro à própria casa (1, 1). Porém, como mostrado pelo reforço de hipótese adotado, a cada passo dos cálculos não basta calcular possíveis caminhos para a casa (1, 1), mas deve-se fazer cálculos para todas as casas $c$ possíveis. Apenas no final que se observa os melhores caminhos que terminam em (1, 1). Já que muitos cálculos serão feitos, evitaremos salvar o caminho calculado para cada casa e tanque final, mas apenas guardar o resultado do caminho, que indica o produto total de prêmios do caminho que termina em cada casa/tanque final. O caminho desejado em si pode ser obtido no final para que se evite que, a cada passo, vários caminhos sejam computados desnecessariamente.<br />\n",
    "&emsp;Ao implementar um algoritmo, portanto, podemos fazer uma rotina que parta do caso base e de fato calcule os melhores resultados para todos as casas. Após ela rodar, outra rotina pode encontrar, de todos os resultados calculados pela primeira, o melhor resultado para a casa final desejada (1, 1). Outra rotina, por último, a partir do melhor resultado, pode obter o caminho que o rei deve fazer para obter tal resultado. Vamos explicar como se implementará cada rotina:<br />\n",
    "&emsp;Para implementar a primeira rotina descrita acima, a ideia é partir do fato de que muitos caminhos que terminem especificamente numa casa $c$ com tanque final $k$ podem ser inviáveis e guardar apenas os caminhos possíveis, pois é através do único caminho possível do caso base (terminar na casa inicial sem se mover, com o tanque final igual ao inicial $Q$) que se chegam aos outros caminhos. Em suma, um caminho só existe se um pedaço menor dele (ou um subcaminho) também existe. Para cada resultado de caminho já calculado que termina com a gasolina $k$ na casa $c$ com produto total de prêmios $produto_{1}$, dar mais um passo a partir da casa final para uma casa adjacente $c_{2}$ representa um novo resultado de caminho que termina com a gasolina $k-custoC_{2}$ e tem produto total $produto_{2} = produto_{1} + prêmioC_{2}$. Fazer isso para todas as casas adjacentes a $c$ resultará em vários outros resultados de caminhos (desde que $k-custoC_{2}$ seja maior que 0), para os quais pode-se repetir o processo. Vamos chamar o ato de obter novos resultados de caminhos a partir de um resultado de caminho $X$ de \"abrir um resultado de caminho $X$\".<br />\n",
    "&emsp;Com essa técnica, todos os possíveis caminhos serão cobertos. Para garantir que os resultados são os melhores, porém, sempre que se obtiver dois resultados de caminhos que terminem na mesma casa com o mesmo tanque final, deve-se manter apenas o que garante o melhor produto. Cada resultado de caminho que se abre, também, precisa ter seu resultado já otimizado. Para garantir isso, suponha que esse resultado termine com tanque $k$. Deve-se abri-lo apenas depois que todos os resultados que terminem com tanque maior que $k$ já tenham sido abertos. Fazer isso funcionará porque, se não há nenhum resultado a abrir que termine com tanque maior que $k$, então nenhuma outra possibilidade de resultado que termina com tanque $k$ surgirá (cada novo resultado que surge tem tanque menor que o tanque do que foi aberto), o que garante que o resultado de tanque $k$ que temos é o melhor resultado.<br />\n",
    "&emsp;A primeira rotina funcionará como descrito acima. Cada resultado aberto deve ser guardado em uma estrutura de dados, para que ao final possa-se executar a segunda rotina, que busca em todos os resultados de tanque final diferentes, mas que terminam na mesma casa final desejada (1, 1), o resultado que garante o maior produto de prêmios.<br />\n",
    "&emsp;Para a última rotina funcionar após o melhor resultado ter sido encontrado, deve ser possível obter o caminho que chega nesse resultado. Para isso, a estrutura de dados de cada resultado pode guardar, além do produto total para certa casa/tanque final, a penúltima casa $c$ pela qual seu caminho passou anteriormente e quanto de tanque $k$ havia quando se passou por ela. Basta procurar o melhor resultado específico para a casa $c$ com tanque final $k$ e ele indicará qual é a penúltima casa pela qual esse resultado passou. Fazendo isso do resultado final e repetindo até o resultado inicial (casa $I$, tanque $Q$), constroi-se o caminho percorrido para chegar em certo resultado de trás para frente.<br />\n",
    "&emsp;Com tudo isso, obtém-se o caminho desejado da casa inicial à final, que é o que a terceira rotina retorna."
   ]
  },
  {
   "cell_type": "markdown",
   "metadata": {},
   "source": [
    "### Descrição informal do algoritmo:\n",
    "\n",
    "&emsp;As 3 rotinas são implementadas com 2 funções: a primeira calcula os melhores resultados (CalcularMelhoresProdutos), a segunda encontra o melhor resultado e calcula o caminho a ser feito para chegar nele (ObterCaminho). Uma terceira função (GerarMelhorCaminho) pode ser usada como cápsula para chamar as rotinas e retornar o caminho final, recebendo apenas o tabuleiro, tanque inicial e as casas inicial/final do caminho.<br />\n",
    "&emsp;O algoritmo representa cada resultado como uma tupla de dimensão 5 contendo: (casa final do caminho, tanque final do caminho, produto final do caminho, penúltima casa do caminho, tanque na penúltima casa do caminho).<br />\n",
    "&emsp;Um resultado inicial é montado trivialmente do caminho do caso base: (casa inicial, tanque inicial, 0, inexistente, inexistente). O resultado inicial é inserido na fila descrita a seguir.<br />\n",
    "&emsp;Já que os resultados serão abertos um por um, o algoritmo usará uma \"fila\" de resultados a serem abertos, porém cada novo resultado a ser aberto não é inserido necessariamente no final da fila, pois os resultados com maior tanque devem ser abertos primeiro, como descrito na explicação do algoritmo. Os resultados são inseridos de maneira a manter a fila sempre em ordem descrescente de tanques, de maneira que o próximo resultado a ser aberto (o primeiro da fila), é sempre o que possui maior tanque final.<br />\n",
    "&emsp;Enquanto a fila não estiver vazia, o primeiro resultado da fila ($c$, $k$, $p$, $c_{-1}$,$k_{-1}$) é retirado e aberto. Para cada casa $c_{2}$ adjacente à casa final do resultado aberto ($c$), há uma nova possibilidade de resultado ($c_{2}$, $k-custoC_{2}$, $p+premioC_{2}$, $c$, $k$), desde que $k-custoC_{2}$ não seja menor que 0. Uma busca será feita na fila para ver se já alguma tupla nela cuja casa/tanque final equivalem a $c_{2}$, $k-custoC_{2}$. Se não existir, então o novo resultado é inserido na fila de maneira a mantê-la ordenada em ordem descrescente de tanque final. Se já existe, então o novo resultado substitui o que já existe no caso de $p+premioC_{2}$ ser maior do que o produto do resultado que já existe.<br />\n",
    "&emsp;Como cada resultado aberto é retirado da fila (mas precisa ficar guardado em memória) e cada resultado aberto já é o melhor resultado para aquela casa/tanque final, o resultado aberto é salvo em uma lista de um dicionário de \"melhores resultados\", chaveado por índices de casas. O primeiro campo da tupla de resultados não é salvo, já que já é representado pela chave do dicionário.<br />\n",
    "&emsp;Quando a fila de resultados a abrir estiver vazia, os melhores resultados já foram calculados. No dicionário de melhores resultados, basta fazer uma busca na lista da chave correspondente à casa final do caminho que se busca, até encontrar o melhor resultado, para todas as opções de tanque final.<br />\n",
    "&emsp;Com esse melhor resultado encontrado, o algoritmo pega os dois últimos campos da tupla do resultado e busca no dicionário de melhores, no índice correspondente à penúltima casa (quarto item da tupla), o resultado que possui o tanque final correspondente ao tanque na penúltima casa (quinto item da tupla). Com o novo resultado encontrado, repete-se isso até encontrar todas as casas pelas quais o caminho buscado passa, para chegar da casa inicial à casa final. A cada passo, a casa atual é adicionada no início de uma lista que representa esse caminho, montando então essa lista de trás para frente!<br />\n",
    "&emsp;Essa lista é a lista final do caminho buscado, que é retornada pela função cápsula!"
   ]
  },
  {
   "cell_type": "markdown",
   "metadata": {},
   "source": [
    "### Algoritmo:"
   ]
  },
  {
   "cell_type": "code",
   "execution_count": 1,
   "metadata": {
    "collapsed": true
   },
   "outputs": [],
   "source": [
    "# OPERAÇÕES EM GRAFOS\n",
    "\n",
    "import sys\n",
    "\n",
    "def LevantarErro(msg):\n",
    "    print(\"\\nERRO FATAL: \" + str(msg) + \"\\n\")\n",
    "    sys.exit(0)\n",
    "\n",
    "#recebe o path do arquivo e retorna o grafo no formato de um dicionário, o número de arestas e o número de vértices dele\n",
    "def CriarGrafo(numVerts):\n",
    "    grafo = {}\n",
    "    for j in range(1, numVerts + 1):\n",
    "        grafo[j] = []\n",
    "    return grafo\n",
    "\n",
    "def CriarAresta(grafo, vert1, vert2, peso = 0):\n",
    "    grafo[vert1].append((vert2, peso))\n",
    "\n",
    "def TemAresta(grafo, vert1, vert2):\n",
    "    if (vert1 > len(grafo) or vert2 > len(grafo)):\n",
    "        LevantarErro(\"Vértice não existe\")\n",
    "    for i in range(len(grafo[vert1])):\n",
    "        vert, peso = grafo[vert1][i]\n",
    "        if (vert == vert2):\n",
    "            return 1\n",
    "    return 0\n",
    "\n",
    "def PesoAresta(grafo, vert1, vert2):\n",
    "    if (vert1 > len(grafo) or vert2 > len(grafo)):\n",
    "        LevantarErro(\"Vértice não existe\")\n",
    "    for i in range(len(grafo[vert1])):\n",
    "        vert, peso = grafo[vert1][i]\n",
    "        if (vert == vert2):\n",
    "            return peso\n",
    "    LevantarErro(\"Aresta não existe\")\n",
    "\n",
    "def DeletarAresta(grafo, vert1, vert2):\n",
    "    if (vert1 > len(grafo) or vert2 > len(grafo)):\n",
    "        LevantarErro(\"Vértice não existe\")\n",
    "    for i in range(len(grafo[vert1])):\n",
    "        vert, peso = grafo[vert1][i]\n",
    "        if (vert == vert2):\n",
    "            grafo[vert1].pop(i)\n",
    "            break\n",
    "    LevantarErro(\"Aresta não existe\")"
   ]
  },
  {
   "cell_type": "code",
   "execution_count": 2,
   "metadata": {
    "collapsed": true
   },
   "outputs": [],
   "source": [
    "# LER TABULEIRO / ADAPTAR IMPLEMENTAÇÃO DE GRAFO PARA PROBLEMA (2D)\n",
    "\n",
    "NUM_LINS = 8\n",
    "NUM_COLS = 8\n",
    "\n",
    "def indiceTupla(x, y):\n",
    "    return x * NUM_COLS + y + 1\n",
    "\n",
    "def tuplaIndice(inx):\n",
    "    inx -= 1\n",
    "    return (int(inx / NUM_COLS), inx % NUM_COLS)\n",
    "\n",
    "def grafo2D(grafo, x, y):\n",
    "    return grafo[indiceTupla(x, y)]\n",
    "\n",
    "#recebe o path do arquivo e retorna o grafo que representa o tabuleiro e o tanque \n",
    "def LerTabuleiro(nome):\n",
    "    with open(nome, 'r') as f:\n",
    "        primeira_linha = f.readline()\n",
    "        tanque = int(primeira_linha)\n",
    "        # matriz de custos/prêmios\n",
    "        matriz = [[[0, 0] for j in range(NUM_COLS)] for i in range(NUM_LINS)]\n",
    "        for k in range(2):\n",
    "            for i in range(NUM_LINS):\n",
    "                linha = f.readline()\n",
    "                words = linha.split()\n",
    "                for j in range(NUM_COLS):\n",
    "                    matriz[i][j][k] = int(words[j])\n",
    "        # Criar grafo de NUM_LINS * NUM_COLS vértices (grafo2D NUM_LINS x NUM_COLS)\n",
    "        grafo = CriarGrafo(NUM_LINS * NUM_COLS)\n",
    "        # Criar arestas horizontais\n",
    "        for j in range(1, NUM_COLS):\n",
    "            for i in range(NUM_LINS):\n",
    "                # Arestas que vão para direita, de (i,j-1) -> (i,j) (entrando em i,j)\n",
    "                CriarAresta(grafo, indiceTupla(i, j-1), indiceTupla(i, j), matriz[i][j] )\n",
    "                # Arestas que vão para esquerda, de (i,j) -> (i,j-1) (entrando em i,j-1)\n",
    "                CriarAresta(grafo, indiceTupla(i, j), indiceTupla(i, j-1), matriz[i][j-1] )\n",
    "        # Criar arestas verticais\n",
    "        for i in range(1, NUM_LINS):\n",
    "            for j in range(NUM_COLS):\n",
    "                # Arestas que vão para baixo, de (i-1,j) -> (i,j) (entrando em i,j)\n",
    "                CriarAresta(grafo, indiceTupla(i-1, j), indiceTupla(i, j), matriz[i][j] )\n",
    "                # Arestas que vão para cima, de (i,j) -> (i-1,j) (entrando em i-1,j)\n",
    "                CriarAresta(grafo, indiceTupla(i, j), indiceTupla(i-1, j), matriz[i-1][j] )\n",
    "        # Criar arestas diagonais (em formato de rampa)\n",
    "        for i in range(1, NUM_LINS):\n",
    "            for j in range(1, NUM_COLS):\n",
    "                # Arestas que vão para cima/direita, de (i,j-1) -> (i-1,j) (entrando em i-1,j)\n",
    "                CriarAresta(grafo, indiceTupla(i, j-1), indiceTupla(i-1, j), matriz[i-1][j] )\n",
    "                # Arestas que vão para baixo/esquerda, de (i-1,j) -> (i,j-1) (entrando em i,j-1)\n",
    "                CriarAresta(grafo, indiceTupla(i-1, j), indiceTupla(i, j-1), matriz[i][j-1] )\n",
    "        # Criar arestas diagonais (em formato de declive)\n",
    "        for i in range(1, NUM_LINS):\n",
    "            for j in range(1, NUM_COLS):\n",
    "                # Arestas que vão para baixo/direita, de (i-1,j-1) -> (i,j) (entrando em i,j)\n",
    "                CriarAresta(grafo, indiceTupla(i-1, j-1), indiceTupla(i, j), matriz[i][j] )\n",
    "                # Arestas que vão para cima/esquerda, de (i,j) -> (i-1,j-1) (entrando em i-1,j-1)\n",
    "                CriarAresta(grafo, indiceTupla(i, j), indiceTupla(i-1, j-1), matriz[i-1][j-1] )\n",
    "        return grafo, tanque"
   ]
  },
  {
   "cell_type": "code",
   "execution_count": 3,
   "metadata": {
    "collapsed": true
   },
   "outputs": [],
   "source": [
    "# FUNÇÕES AUXILIARES\n",
    "\n",
    "# Função para inserir elemento \"elem\" em lista \"lista\" de forma a manter ordem crescente\n",
    "# (opção de passar uma função \"filtro\" para alterar critérios de ordenação)\n",
    "def InsertionSort(lista, elem, filtro = lambda x: x):\n",
    "    n = len(lista)\n",
    "    if (n == 0 or filtro(elem) < filtro(lista[0])):\n",
    "        lista.insert(0, elem)\n",
    "        return\n",
    "    for i in range(n - 1):\n",
    "        if (filtro(elem) >= filtro(lista[i]) and filtro(elem) < filtro(lista[i+1])):\n",
    "            lista.insert(i+1, elem)\n",
    "            return\n",
    "    lista.insert(n, elem)\n",
    "\n",
    "# Função que retorna índice do maior elemento da lista \"lista\". Retorna -1 em lista vazia\n",
    "# (opção de passar uma função \"filtro\" para alterar critérios de comparação)\n",
    "def ObterInxMaximo(lista, filtro = lambda x: x):\n",
    "    inxMax = -1\n",
    "    maxVal = -1\n",
    "    for inx, val in enumerate(lista):\n",
    "        valFiltrado = filtro(val)\n",
    "        if (inxMax == -1 or valFiltrado > maxVal):\n",
    "            maxVal = valFiltrado\n",
    "            inxMax = inx\n",
    "    return inxMax"
   ]
  },
  {
   "cell_type": "code",
   "execution_count": 4,
   "metadata": {
    "collapsed": false
   },
   "outputs": [],
   "source": [
    "# IMPLEMENTAÇÃO DO ALGORITMO\n",
    "\n",
    "# Recebe o grafo do tabuleiro, o tanque inicial e as tuplas casaInicial/casaFinal,\n",
    "# retornando a lista do caminho a ser tomado que dá o melhor produto da casa inicial\n",
    "# à casa final\n",
    "def GerarMelhorCaminho(grafo, tanqueInicial, casaInicial, casaFinal):\n",
    "    melhores = {}\n",
    "    for i in grafo:\n",
    "        melhores[i] = []\n",
    "    filaNosTanques = []\n",
    "    inxInicial = indiceTupla(casaInicial[0], casaInicial[1])\n",
    "    # Primeiro resultado de caminho existente é o nó inicial com o tanque inicial, de\n",
    "    # produto 0 e sem penúltimo nó\n",
    "    filaNosTanques.append((inxInicial, tanqueInicial, 0, -1, -1))\n",
    "    # Preencher dicionário \"melhores\" com melhores resultados a partir da fila\n",
    "    # com resultado inicial\n",
    "    CalcularMelhoresProdutos(grafo, filaNosTanques, melhores)\n",
    "    # Assertiva\n",
    "    if (filaNosTanques != []):\n",
    "        LevantarErro(\"Ainda há resultados para calcular\")\n",
    "    # \n",
    "    return ObterCaminho(melhores, tanqueInicial, casaFinal)\n",
    "\n",
    "# Dada a fila \"filaNosTanques\" de resultados a serem abertos, abre\n",
    "# cada nó e preenche o dicionário \"melhores\" com os melhores resultados em cada\n",
    "# casa, para cada tanque final\n",
    "def CalcularMelhoresProdutos(grafo, filaNosTanques, melhores):\n",
    "    # Enquanto houverem resultados a abrir, abri-los\n",
    "    while(len(filaNosTanques) != 0):\n",
    "        # Abrir resultado e salvá-lo no dicionário\n",
    "        noAberto, tanque, prod, origem, tanqueOrigem = filaNosTanques.pop(0)\n",
    "        melhores[noAberto].append((tanque, prod, origem, tanqueOrigem))\n",
    "        # Cada casa final do resultado aberto tem algumas casas adjacentes que podem\n",
    "        # representar novos resultados (novos caminhos):\n",
    "        for no, peso in grafo[noAberto]:\n",
    "            # Custo e prêmio da casa adjacente\n",
    "            custo = peso[0]\n",
    "            premio = peso[1]\n",
    "            # Se o custo é maior que o tanque atual, o caminho é inviável\n",
    "            if (tanque - custo < 0):\n",
    "                continue\n",
    "            # Ver se resultado já está na lista de resultados a abrir\n",
    "            inxTupla = -1\n",
    "            for inx, val in enumerate(filaNosTanques):\n",
    "                if val[:2] == (no, tanque-custo):\n",
    "                    inxTupla = inx\n",
    "                    break\n",
    "            # Se resultado não está na lista, adicioná-lo, mantendo a lista ordenada\n",
    "            # (maiores tanques primeiro)\n",
    "            if (inxTupla == -1):                \n",
    "                InsertionSort(filaNosTanques, (no, tanque-custo, prod+premio, noAberto, tanque), lambda tupla: -tupla[1])\n",
    "            # Se resultado já está na lista, substituí-lo caso o produto deste caminho\n",
    "            # seja maior\n",
    "            else:\n",
    "                if (filaNosTanques[inxTupla][2] < prod+premio):\n",
    "                    filaNosTanques[inxTupla] = (no, tanque-custo, prod+premio, noAberto, tanque)\n",
    "\n",
    "# Recebe dicionário \"melhores\" de melhores resultados para cada casa, para cada tanque\n",
    "# final e retorna: Uma lista de tuplas com o melhor caminho da casa inicial até a final\n",
    "# e o que restou no tanque\n",
    "def ObterCaminho(melhores, tanqueInicial, casaFinal):\n",
    "    inxFinal = indiceTupla(casaFinal[0], casaFinal[1])\n",
    "    # Obter índice de resultado de maior produto na casa final\n",
    "    inxMelhorResultado = ObterInxMaximo(melhores[inxFinal], lambda tupla: tupla[1])\n",
    "    # Se não há índice, não há nenhum resultado que chegue na casa final. Logo não há caminho!\n",
    "    if (inxMelhorResultado == -1):\n",
    "        return [], tanqueInicial\n",
    "    \n",
    "    # Vetor com as tuplas do caminho\n",
    "    caminho = [tuplaIndice(inxFinal)]\n",
    "    \n",
    "    # Queremos obter a partir de qual casa chegamos na casa final\n",
    "    casaAtual = melhores[inxFinal][inxMelhorResultado][2]\n",
    "    # Queremos saber qual tanque possuíamos quando estávamos nessa casa\n",
    "    tanqueAtual = melhores[inxFinal][inxMelhorResultado][3]\n",
    "    # Loop para inserir todas as casas pelas quais se passou na lista \"caminho\", até a casa\n",
    "    # inicial (quando casaAtual == -1)\n",
    "    while(casaAtual != -1):\n",
    "        # casaAtual é a casa que será inserida na lista.\n",
    "        caminho.insert(0, tuplaIndice(casaAtual))\n",
    "        # Obter casa anterior à casa atual (penúltima) e salvá-la como nova casa atual\n",
    "        achou = False\n",
    "        for tupla in melhores[casaAtual]:\n",
    "            if (tupla[0] == tanqueAtual):\n",
    "                casaAtual = tupla[2]\n",
    "                # Atualizar também o tanque que se possía quando se passou pela penúltima casa\n",
    "                tanqueAtual = tupla[3]\n",
    "                achou = True\n",
    "                break\n",
    "        # Assertiva\n",
    "        if (achou == False):\n",
    "            LevantarErro(\"Não se passou por nenhum resultado na casa atual com o tanque salvo em tanqueAtual\")\n",
    "    return caminho, melhores[inxFinal][inxMelhorResultado][0], melhores[inxFinal][inxMelhorResultado][1]"
   ]
  },
  {
   "cell_type": "markdown",
   "metadata": {},
   "source": [
    "### Testes de execução:"
   ]
  },
  {
   "cell_type": "code",
   "execution_count": 5,
   "metadata": {
    "collapsed": false
   },
   "outputs": [
    {
     "name": "stdout",
     "output_type": "stream",
     "text": [
      "Primeira Instancia\n",
      "\n",
      "\n",
      "Tanque inicial: 8\n",
      "\n",
      "Tanque final: 0, Produto final: 16, Caminho percorrido:\n",
      "[(0, 0), (0, 1), (0, 0), (0, 1), (0, 0), (0, 1), (0, 0), (0, 1), (0, 0)]\n",
      "\n",
      "\n",
      "Segunda Instancia\n",
      "\n",
      "\n",
      "Tanque inicial: 8\n",
      "\n",
      "Tanque final: 0, Produto final: 16, Caminho percorrido:\n",
      "[(0, 0), (0, 1), (0, 0), (0, 1), (0, 0), (0, 1), (0, 0), (0, 1), (0, 0)]\n",
      "\n",
      "\n",
      "Terceira Instancia\n",
      "\n",
      "\n",
      "Tanque inicial: 8\n",
      "\n",
      "Tanque final: 0, Produto final: 16, Caminho percorrido:\n",
      "[(0, 0), (0, 1), (0, 0), (0, 1), (0, 0), (0, 1), (0, 0), (0, 1), (0, 0)]\n",
      "\n",
      "\n",
      "Quarta Instancia\n",
      "\n",
      "\n",
      "Tanque inicial: 22\n",
      "\n",
      "Tanque final: 0, Produto final: 284, Caminho percorrido:\n",
      "[(0, 0), (1, 1), (2, 2), (3, 3), (4, 4), (5, 4), (6, 4), (7, 4), (6, 4), (7, 4), (6, 4), (7, 4), (6, 4), (7, 4), (6, 4), (7, 4), (6, 4), (5, 4), (4, 4), (3, 3), (2, 2), (1, 1), (0, 0)]\n",
      "\n",
      "\n",
      "Quinta Instancia\n",
      "\n",
      "\n",
      "Tanque inicial: 18\n",
      "\n",
      "Tanque final: 0, Produto final: 57, Caminho percorrido:\n",
      "[(0, 0), (1, 0), (2, 0), (3, 1), (2, 0), (3, 1), (2, 0), (3, 1), (2, 0), (3, 1), (2, 0), (3, 1), (2, 0), (3, 1), (2, 0), (3, 1), (2, 0), (1, 0), (0, 0)]\n"
     ]
    }
   ],
   "source": [
    "print(\"Primeira Instancia\\n\")\n",
    "\n",
    "grafo, tanque = LerTabuleiro(\"walk.txt\")\n",
    "print(\"\\nTanque inicial: \" + str(tanque) + \"\\n\")\n",
    "caminho, tanqueFinal, produtoFinal = GerarMelhorCaminho(grafo, tanque, (0, 0), (0, 0))\n",
    "print(\"Tanque final: \" + str(tanqueFinal) + \", Produto final: \" + str(produtoFinal) + \", Caminho percorrido:\\n\" + str(caminho))\n",
    "\n",
    "print(\"\\n\")\n",
    "print(\"Segunda Instancia\\n\")\n",
    "\n",
    "grafo, tanque = LerTabuleiro(\"walk2.txt\")\n",
    "print(\"\\nTanque inicial: \" + str(tanque) + \"\\n\")\n",
    "caminho, tanqueFinal, produtoFinal = GerarMelhorCaminho(grafo, tanque, (0, 0), (0, 0))\n",
    "print(\"Tanque final: \" + str(tanqueFinal) + \", Produto final: \" + str(produtoFinal) + \", Caminho percorrido:\\n\" + str(caminho))\n",
    "\n",
    "print(\"\\n\")\n",
    "print(\"Terceira Instancia\\n\")\n",
    "\n",
    "grafo, tanque = LerTabuleiro(\"walk3.txt\")\n",
    "print(\"\\nTanque inicial: \" + str(tanque) + \"\\n\")\n",
    "caminho, tanqueFinal, produtoFinal = GerarMelhorCaminho(grafo, tanque, (0, 0), (0, 0))\n",
    "print(\"Tanque final: \" + str(tanqueFinal) + \", Produto final: \" + str(produtoFinal) + \", Caminho percorrido:\\n\" + str(caminho))\n",
    "\n",
    "print(\"\\n\")\n",
    "print(\"Quarta Instancia\\n\")\n",
    "\n",
    "grafo, tanque = LerTabuleiro(\"walk4.txt\")\n",
    "print(\"\\nTanque inicial: \" + str(tanque) + \"\\n\")\n",
    "caminho, tanqueFinal, produtoFinal = GerarMelhorCaminho(grafo, tanque, (0, 0), (0, 0))\n",
    "print(\"Tanque final: \" + str(tanqueFinal) + \", Produto final: \" + str(produtoFinal) + \", Caminho percorrido:\\n\" + str(caminho))\n",
    "\n",
    "print(\"\\n\")\n",
    "print(\"Quinta Instancia\\n\")\n",
    "\n",
    "grafo, tanque = LerTabuleiro(\"walk5.txt\")\n",
    "print(\"\\nTanque inicial: \" + str(tanque) + \"\\n\")\n",
    "caminho, tanqueFinal, produtoFinal = GerarMelhorCaminho(grafo, tanque, (0, 0), (0, 0))\n",
    "print(\"Tanque final: \" + str(tanqueFinal) + \", Produto final: \" + str(produtoFinal) + \", Caminho percorrido:\\n\" + str(caminho))"
   ]
  },
  {
   "cell_type": "markdown",
   "metadata": {},
   "source": [
    "## Questão 3:\n",
    "**3. Busca de um string em textos<br />\n",
    "&emsp;Considere um text deﬁnido pelo vetor de caracteres $T[1..n]$. Deseja-se determinar todas as ocorrências do string $s[1..m]$ em $T$. Desenvolva algoritmos com este objetivo que atendam as seguintes condições:**"
   ]
  },
  {
   "cell_type": "markdown",
   "metadata": {},
   "source": [
    "**$(a)$ Encontra as ocorrências de string s exatamente como especificado.<br />\n",
    "$(b)$ Permite alternativas entre elementos de s. Por exemplo, maiúsculas e minúsculas são equivalentes.<br />\n",
    "$(c)$ Encontra as ocorrências de s que deixam de verificar até um dos seus elementos.<br />**"
   ]
  },
  {
   "cell_type": "markdown",
   "metadata": {},
   "source": [
    "### Prova do teorema por indução:"
   ]
  },
  {
   "cell_type": "markdown",
   "metadata": {},
   "source": [
    "### Algoritmo da letra (a)"
   ]
  },
  {
   "cell_type": "markdown",
   "metadata": {},
   "source": [
    "### Surgimento/Explicação do algoritmo\n",
    "\n",
    "Como a prova mostra, guardaremos os candidatos a serem iguais a string procurada s. À cada vez que lemos um novo caracter da string T, atualizaremos os candidatos já encontrados, verificando se algum deles ainda pode ser considerado como tal (caso contrário, será removido da lista). Caso ele ainda seja um candidato, testa-se se ele já pode ser considerado como uma ocorrência. Em caso afirmativo, guarda-se em que posição da string T ele está. "
   ]
  },
  {
   "cell_type": "markdown",
   "metadata": {},
   "source": [
    "### Descrição do algoritmo\n",
    "\n",
    "A função encontraOcorrencias cria duas listas, uma que guarda em que posições da string T estão as ocorrências de s (caso existam) e outra que guarda os possíveis candidatos de T a serem iguais a s. Caso s seja vazia, simplismente retorna-se uma lista vazia. A função então chamará, para cada caracter de T, a funcão ocorrenciaString.\n",
    "A função ocorrenciaString  verifica se o caracter atual é igual ao primeiro caracter de s, isto é, se este é um candidato a uma ocorrência. Após fazer essa verificação, atualizaremos a lista de candidatos, de acordo como foi explicado acima.  Ao final, retorna-se a lista de ocorrências e seu tamanho, isto é, quantas vezes a string s apareceu em T.   "
   ]
  },
  {
   "cell_type": "code",
   "execution_count": 11,
   "metadata": {
    "collapsed": false
   },
   "outputs": [],
   "source": [
    "def ocorrenciaString(string, strProc, k, ocorrencias, candidatos):\n",
    "    if (string[k] == strProc[0]):\n",
    "        candidatos.append(k)\n",
    "    for inx in candidatos:\n",
    "        pos = k - inx\n",
    "        if (string[k] == strProc[pos]):\n",
    "            if (pos == len(strProc) - 1):\n",
    "                iniFim=[inx,inx+len(strProc)-1]\n",
    "                ocorrencias.append(iniFim)\n",
    "                candidatos.remove(inx)\n",
    "        else:\n",
    "            candidatos.remove(inx)\n",
    "\n",
    "def encontraOcorrencias(string, strProc):\n",
    "    ocorrencias = []\n",
    "    candidatos = []\n",
    "    if(len(strProc)==0):\n",
    "        return []\n",
    "    n = len(string)\n",
    "    for k in range(n):\n",
    "        ocorrenciaString(string, strProc, k, ocorrencias, candidatos)\n",
    "    return ocorrencias,len(ocorrencias)"
   ]
  },
  {
   "cell_type": "markdown",
   "metadata": {},
   "source": [
    "### Comentários de desenvolvimento"
   ]
  },
  {
   "cell_type": "markdown",
   "metadata": {},
   "source": [
    "### Algoritmo da letra (b)"
   ]
  },
  {
   "cell_type": "markdown",
   "metadata": {},
   "source": [
    "### Surgimento/Explicação do algoritmo\n",
    "\n",
    "O algoritmo funciona de modo muito semelhante ao anterior. Ele difere apenas por tratar caracteres minúsculos equivalentes aos maiúsculos."
   ]
  },
  {
   "cell_type": "markdown",
   "metadata": {},
   "source": [
    "### Descrição do Algoritmo\n",
    "\n",
    "A função ocorrenciaStringMaiuscula usa a função upper() para permitir alternativas entre elementos de s. Mais uma vez, retorna-se a lista de ocorrências e quantas vezes a string s apareceu em T.   "
   ]
  },
  {
   "cell_type": "code",
   "execution_count": 10,
   "metadata": {
    "collapsed": false
   },
   "outputs": [],
   "source": [
    "def ocorrenciaStringMaiuscula(string, strProc, k, ocorrencias, candidatos):\n",
    "    if (string[k].upper() == strProc[0].upper()):\n",
    "        candidatos.append(k)\n",
    "    for inx in candidatos:\n",
    "        pos = k - inx\n",
    "        if (string[k].upper() == strProc[pos].upper()):\n",
    "            if (pos == len(strProc) - 1):\n",
    "                iniFim=[inx,inx+len(strProc)-1]\n",
    "                ocorrencias.append(iniFim)\n",
    "                candidatos.remove(inx)\n",
    "        else:\n",
    "            candidatos.remove(inx)\n",
    "\n",
    "def encontraOcorrenciasMaiuscula(string, strProc):\n",
    "    ocorrencias = []\n",
    "    candidatos = []\n",
    "    if(len(strProc)==0):\n",
    "        return []\n",
    "    n = len(string)\n",
    "    for k in range(n):\n",
    "        ocorrenciaStringMaiuscula(string, strProc, k, ocorrencias, candidatos)\n",
    "    return ocorrencias,len(ocorrencias)"
   ]
  },
  {
   "cell_type": "markdown",
   "metadata": {},
   "source": [
    "### Comentários de desenvolvimento"
   ]
  },
  {
   "cell_type": "markdown",
   "metadata": {},
   "source": [
    "### Algoritmo da letra (c)"
   ]
  },
  {
   "cell_type": "markdown",
   "metadata": {},
   "source": [
    "### Surgimento/Explicação do algoritmo\n",
    "\n",
    "Novamente, guardaremos os candidatos e as ocorrências da string s. Entretanto, dessa vez também guardaremos a quantidade de erros que cada candidato possui em relação a string s. Como cada novo caracter lido de T pode ser considerado como um candidato, fizemos isso para conseguirmos diferenciá-los. Portanto, para cada caracter lido, examinaremos todos os candidatos, da seguinte forma:\n",
    "- Cada candidato só deixará de possuir essa característica caso ultrapasse o limite de erros permitido. Caso contrário, ele permanecerá como candidato e terá seu contador de erros aumentado.\n",
    "- Assim como nos casos anteriores, verificaremos se os candidatos já podem ser considerados como ocorrências, armazenando sua posição em T em caso afirmativo. "
   ]
  },
  {
   "cell_type": "markdown",
   "metadata": {},
   "source": [
    "### Descrição do algoritmo\n",
    "\n",
    "Na função ocorrenciaStringParecida adicionamos uma nova lista, que guarda os candidatos que serão removidos cada vez que a função é chamada. Também foi adicionada uma variável global TOL, que representa quantos elementos de s as ocorrências contabilizadas deixam de verificar. Assim como antes, a função encontraOcorrenciasParecida retornará quantas vezes a string s apareceu em T e em que posição de T cada ocorrência está.      "
   ]
  },
  {
   "cell_type": "code",
   "execution_count": 8,
   "metadata": {
    "collapsed": false
   },
   "outputs": [],
   "source": [
    "global TOL\n",
    "TOL = 1\n",
    "\n",
    "def ocorrenciaStringParecida(string, strProc, k, ocorrencias, candidatos):\n",
    "    global TOL\n",
    "    candidatos.append([k, 0])\n",
    "    remover = []\n",
    "    for dupla in candidatos:\n",
    "        inx = dupla[0]\n",
    "        pos = k - inx\n",
    "        if (dupla[1] >= TOL and string[k] != strProc[pos]):\n",
    "            remover.append([inx, dupla[1]])\n",
    "            continue\n",
    "        elif (string[k] != strProc[pos]):\n",
    "            dupla[1] += 1\n",
    "        if (pos == len(strProc) - 1):\n",
    "            iniFim=[inx,inx+len(strProc)-1]\n",
    "            ocorrencias.append(iniFim)\n",
    "            remover.append([inx, dupla[1]])\n",
    "    for dupla in remover:\n",
    "        candidatos.remove(dupla)\n",
    "\n",
    "def encontraOcorrenciasParecida(string, strProc):\n",
    "    ocorrencias = []\n",
    "    candidatos = []\n",
    "    n = len(string)\n",
    "    for k in range(n):\n",
    "        ocorrenciaStringParecida(string, strProc, k, ocorrencias, candidatos)\n",
    "    return ocorrencias,len(ocorrencias)\n"
   ]
  },
  {
   "cell_type": "markdown",
   "metadata": {},
   "source": [
    "### Comentários de desenvolvimento"
   ]
  },
  {
   "cell_type": "markdown",
   "metadata": {
    "collapsed": true
   },
   "source": [
    "### Testes"
   ]
  },
  {
   "cell_type": "code",
   "execution_count": 9,
   "metadata": {
    "collapsed": false
   },
   "outputs": [
    {
     "ename": "IOError",
     "evalue": "[Errno 2] No such file or directory: 'teste_string.txt'",
     "output_type": "error",
     "traceback": [
      "\u001b[0;31m---------------------------------------------------------------------------\u001b[0m",
      "\u001b[0;31mIOError\u001b[0m                                   Traceback (most recent call last)",
      "\u001b[0;32m<ipython-input-9-bb374e78fb3d>\u001b[0m in \u001b[0;36m<module>\u001b[0;34m()\u001b[0m\n\u001b[0;32m----> 1\u001b[0;31m \u001b[1;32mwith\u001b[0m \u001b[0mopen\u001b[0m\u001b[1;33m(\u001b[0m\u001b[1;34m\"teste_string.txt\"\u001b[0m\u001b[1;33m)\u001b[0m \u001b[1;32mas\u001b[0m \u001b[0mf\u001b[0m\u001b[1;33m:\u001b[0m\u001b[1;33m\u001b[0m\u001b[0m\n\u001b[0m\u001b[1;32m      2\u001b[0m     \u001b[0marq\u001b[0m \u001b[1;33m=\u001b[0m \u001b[0mf\u001b[0m\u001b[1;33m.\u001b[0m\u001b[0mreadlines\u001b[0m\u001b[1;33m(\u001b[0m\u001b[1;33m)\u001b[0m\u001b[1;33m\u001b[0m\u001b[0m\n\u001b[1;32m      3\u001b[0m \u001b[0marq\u001b[0m \u001b[1;33m=\u001b[0m \u001b[1;33m[\u001b[0m\u001b[0mx\u001b[0m\u001b[1;33m.\u001b[0m\u001b[0mstrip\u001b[0m\u001b[1;33m(\u001b[0m\u001b[1;33m)\u001b[0m \u001b[1;32mfor\u001b[0m \u001b[0mx\u001b[0m \u001b[1;32min\u001b[0m \u001b[0marq\u001b[0m\u001b[1;33m]\u001b[0m\u001b[1;33m\u001b[0m\u001b[0m\n\u001b[1;32m      4\u001b[0m \u001b[0mstring1\u001b[0m\u001b[1;33m=\u001b[0m\u001b[0marq\u001b[0m\u001b[1;33m[\u001b[0m\u001b[1;36m2\u001b[0m\u001b[1;33m]\u001b[0m\u001b[1;33m\u001b[0m\u001b[0m\n\u001b[1;32m      5\u001b[0m \u001b[0mstring2\u001b[0m\u001b[1;33m=\u001b[0m\u001b[0marq\u001b[0m\u001b[1;33m[\u001b[0m\u001b[1;36m8\u001b[0m\u001b[1;33m]\u001b[0m\u001b[1;33m\u001b[0m\u001b[0m\n",
      "\u001b[0;31mIOError\u001b[0m: [Errno 2] No such file or directory: 'teste_string.txt'"
     ]
    }
   ],
   "source": [
    "with open(\"teste_string.txt\") as f:\n",
    "    arq = f.readlines()\n",
    "arq = [x.strip() for x in arq] \n",
    "string1=arq[2]\n",
    "string2=arq[8]\n",
    "string3=arq[14]\n",
    "subseq1=[arq[4],arq[5],arq[6]]\n",
    "subseq2=[arq[10],arq[11],arq[12]]\n",
    "subseq3=[arq[16],arq[17],arq[18]]\n"
   ]
  },
  {
   "cell_type": "markdown",
   "metadata": {},
   "source": [
    "### (a)"
   ]
  },
  {
   "cell_type": "code",
   "execution_count": null,
   "metadata": {
    "collapsed": false
   },
   "outputs": [],
   "source": [
    "print(\"Primeira string:\\n\")\n",
    "print(string1)\n",
    "\n",
    "print(\"\\n\")\n",
    "\n",
    "lst,numOcor = encontraOcorrencias(string1, subseq1[0])\n",
    "print(\"A palavra \"+ str(subseq1[0]) + \" possui \" + str(numOcor)+ \" ocorrência(s) nesta string. Caso existam, elas estão nas seguintes posições:\\n\")\n",
    "print(lst)\n",
    "\n",
    "print(\"\\n\")\n",
    "\n",
    "lst,numOcor = encontraOcorrencias(string1, subseq1[1])\n",
    "print(\"A palavra \"+ str(subseq1[1]) + \" possui \" + str(numOcor)+ \" ocorrência(s) nesta string. Caso existam, elas estão nas seguintes posições:\\n\")\n",
    "print(lst)\n",
    "\n",
    "print(\"\\n\")\n",
    "\n",
    "lst,numOcor = encontraOcorrencias(string1, subseq1[2])\n",
    "print(\"A palavra \"+ str(subseq1[2]) + \" possui \" + str(numOcor)+ \" ocorrência(s) nesta string. Caso existam, elas estão nas seguintes posições:\\n\")\n",
    "print(lst)\n",
    "\n",
    "print(\"\\n\")\n",
    "\n",
    "print(\"Segunda string:\\n\")\n",
    "print(string2)\n",
    "\n",
    "print(\"\\n\")\n",
    "\n",
    "lst,numOcor = encontraOcorrencias(string2, subseq2[0])\n",
    "print(\"A palavra \"+ str(subseq2[0]) + \" possui \" + str(numOcor)+ \" ocorrência(s) nesta string. Caso existam, elas estão nas seguintes posições:\\n\")\n",
    "print(lst)\n",
    "\n",
    "print(\"\\n\")\n",
    "\n",
    "lst,numOcor = encontraOcorrencias(string2, subseq2[1])\n",
    "print(\"A palavra \"+ str(subseq2[1]) + \" possui \" + str(numOcor)+ \" ocorrência(s) nesta string. Caso existam, elas estão nas seguintes posições:\\n\")\n",
    "print(lst)\n",
    "\n",
    "print(\"\\n\")\n",
    "\n",
    "lst,numOcor = encontraOcorrencias(string2, subseq2[2])\n",
    "print(\"A palavra \"+ str(subseq2[2]) + \" possui \" + str(numOcor)+ \" ocorrência(s) nesta string. Caso existam, elas estão nas seguintes posições:\\n\")\n",
    "print(lst)\n",
    "\n",
    "print(\"\\n\")\n",
    "\n",
    "print(\"Terceira string:\\n\")\n",
    "print(string3)\n",
    "\n",
    "print(\"\\n\")\n",
    "\n",
    "lst,numOcor = encontraOcorrencias(string3, subseq3[0])\n",
    "print(\"A palavra \"+ str(subseq3[0]) + \" possui \" + str(numOcor)+ \" ocorrência(s) nesta string. Caso existam, elas estão nas seguintes posições:\\n\")\n",
    "print(lst)\n",
    "\n",
    "print(\"\\n\")\n",
    "\n",
    "lst,numOcor = encontraOcorrencias(string3, subseq3[1])\n",
    "print(\"A palavra \"+ str(subseq3[1]) + \" possui \" + str(numOcor)+ \" ocorrência(s) nesta string. Caso existam, elas estão nas seguintes posições:\\n\")\n",
    "print(lst)\n",
    "\n",
    "print(\"\\n\")\n",
    "\n",
    "lst,numOcor = encontraOcorrencias(string3, subseq3[2])\n",
    "print(\"A palavra \"+ str(subseq3[2]) + \" possui \" + str(numOcor)+ \" ocorrência(s) nesta string. Caso existam, elas estão nas seguintes posições:\\n\")\n",
    "print(lst)\n",
    "\n",
    "print(\"\\n\")\n"
   ]
  },
  {
   "cell_type": "markdown",
   "metadata": {},
   "source": [
    "### (b)"
   ]
  },
  {
   "cell_type": "code",
   "execution_count": null,
   "metadata": {
    "collapsed": false
   },
   "outputs": [],
   "source": [
    "print(\"Primeira string:\\n\")\n",
    "print(string1)\n",
    "\n",
    "print(\"\\n\")\n",
    "\n",
    "lst,numOcor = encontraOcorrenciasMaiuscula(string1, subseq1[0])\n",
    "print(\"A palavra \"+ str(subseq1[0]) + \" possui \" + str(numOcor)+ \" ocorrência(s) nesta string. Caso existam, elas estão nas seguintes posições:\\n\")\n",
    "print(lst)\n",
    "\n",
    "print(\"\\n\")\n",
    "\n",
    "lst,numOcor = encontraOcorrenciasMaiuscula(string1, subseq1[1])\n",
    "print(\"A palavra \"+ str(subseq1[1]) + \" possui \" + str(numOcor)+ \" ocorrência(s) nesta string. Caso existam, elas estão nas seguintes posições:\\n\")\n",
    "print(lst)\n",
    "\n",
    "print(\"\\n\")\n",
    "\n",
    "lst,numOcor = encontraOcorrenciasMaiuscula(string1, subseq1[2])\n",
    "print(\"A palavra \"+ str(subseq1[2]) + \" possui \" + str(numOcor)+ \" ocorrência(s) nesta string. Caso existam, elas estão nas seguintes posições:\\n\")\n",
    "print(lst)\n",
    "\n",
    "print(\"\\n\")\n",
    "\n",
    "print(\"Segunda string:\\n\")\n",
    "print(string2)\n",
    "\n",
    "print(\"\\n\")\n",
    "\n",
    "lst,numOcor = encontraOcorrenciasMaiuscula(string2, subseq2[0])\n",
    "print(\"A palavra \"+ str(subseq2[0]) + \" possui \" + str(numOcor)+ \" ocorrência(s) nesta string. Caso existam, elas estão nas seguintes posições:\\n\")\n",
    "print(lst)\n",
    "\n",
    "print(\"\\n\")\n",
    "\n",
    "lst,numOcor = encontraOcorrenciasMaiuscula(string2, subseq2[1])\n",
    "print(\"A palavra \"+ str(subseq2[1]) + \" possui \" + str(numOcor)+ \" ocorrência(s) nesta string. Caso existam, elas estão nas seguintes posições:\\n\")\n",
    "print(lst)\n",
    "\n",
    "print(\"\\n\")\n",
    "\n",
    "lst,numOcor = encontraOcorrenciasMaiuscula(string2, subseq2[2])\n",
    "print(\"A palavra \"+ str(subseq2[2]) + \" possui \" + str(numOcor)+ \" ocorrência(s) nesta string. Caso existam, elas estão nas seguintes posições:\\n\")\n",
    "print(lst)\n",
    "\n",
    "print(\"\\n\")\n",
    "\n",
    "print(\"Terceira string:\\n\")\n",
    "print(string3)\n",
    "\n",
    "print(\"\\n\")\n",
    "\n",
    "lst,numOcor = encontraOcorrenciasMaiuscula(string3, subseq3[0])\n",
    "print(\"A palavra \"+ str(subseq3[0]) + \" possui \" + str(numOcor)+ \" ocorrência(s) nesta string. Caso existam, elas estão nas seguintes posições:\\n\")\n",
    "print(lst)\n",
    "\n",
    "print(\"\\n\")\n",
    "\n",
    "lst,numOcor = encontraOcorrenciasMaiuscula(string3, subseq3[1])\n",
    "print(\"A palavra \"+ str(subseq3[1]) + \" possui \" + str(numOcor)+ \" ocorrência(s) nesta string. Caso existam, elas estão nas seguintes posições:\\n\")\n",
    "print(lst)\n",
    "\n",
    "print(\"\\n\")\n",
    "\n",
    "lst,numOcor = encontraOcorrenciasMaiuscula(string3, subseq3[2])\n",
    "print(\"A palavra \"+ str(subseq3[2]) + \" possui \" + str(numOcor)+ \" ocorrência(s) nesta string. Caso existam, elas estão nas seguintes posições:\\n\")\n",
    "print(lst)\n",
    "\n",
    "print(\"\\n\")\n"
   ]
  },
  {
   "cell_type": "markdown",
   "metadata": {},
   "source": [
    "### (c)"
   ]
  },
  {
   "cell_type": "code",
   "execution_count": null,
   "metadata": {
    "collapsed": false
   },
   "outputs": [],
   "source": [
    "print(\"Primeira string:\\n\")\n",
    "print(string1)\n",
    "\n",
    "print(\"\\n\")\n",
    "\n",
    "lst,numOcor = encontraOcorrenciasParecida(string1, subseq1[0])\n",
    "print(\"A palavra \"+ str(subseq1[0]) + \" possui \" + str(numOcor)+ \" ocorrência(s) nesta string com no máximo um erro. Caso existam, elas estão nas seguintes posições:\\n\")\n",
    "print(lst)\n",
    "\n",
    "print(\"\\n\")\n",
    "\n",
    "lst,numOcor = encontraOcorrenciasParecida(string1, subseq1[1])\n",
    "print(\"A palavra \"+ str(subseq1[1]) + \" possui \" + str(numOcor)+ \" ocorrência(s) nesta string com no máximo um erro. Caso existam, elas estão nas seguintes posições:\\n\")\n",
    "print(lst)\n",
    "\n",
    "print(\"\\n\")\n",
    "\n",
    "lst,numOcor = encontraOcorrenciasParecida(string1, subseq1[2])\n",
    "print(\"A palavra \"+ str(subseq1[2]) + \" possui \" + str(numOcor)+ \" ocorrência(s) nesta string com no máximo um erro. Caso existam, elas estão nas seguintes posições:\\n\")\n",
    "print(lst)\n",
    "\n",
    "print(\"\\n\")\n",
    "\n",
    "print(\"Segunda string:\\n\")\n",
    "print(string2)\n",
    "\n",
    "print(\"\\n\")\n",
    "\n",
    "lst,numOcor = encontraOcorrenciasParecida(string2, subseq2[0])\n",
    "print(\"A palavra \"+ str(subseq2[0]) + \" possui \" + str(numOcor)+ \" ocorrência(s) nesta string com no máximo um erro. Caso existam, elas estão nas seguintes posições:\\n\")\n",
    "print(lst)\n",
    "\n",
    "print(\"\\n\")\n",
    "\n",
    "lst,numOcor = encontraOcorrenciasParecida(string2, subseq2[1])\n",
    "print(\"A palavra \"+ str(subseq2[1]) + \" possui \" + str(numOcor)+ \" ocorrência(s) nesta string com no máximo um erro. Caso existam, elas estão nas seguintes posições:\\n\")\n",
    "print(lst)\n",
    "\n",
    "print(\"\\n\")\n",
    "\n",
    "lst,numOcor = encontraOcorrenciasParecida(string2, subseq2[2])\n",
    "print(\"A palavra \"+ str(subseq2[2]) + \" possui \" + str(numOcor)+ \" ocorrência(s) nesta string com no máximo um erro. Caso existam, elas estão nas seguintes posições:\\n\")\n",
    "print(lst)\n",
    "\n",
    "print(\"\\n\")\n",
    "\n",
    "print(\"Terceira string:\\n\")\n",
    "print(string3)\n",
    "\n",
    "print(\"\\n\")\n",
    "\n",
    "lst,numOcor = encontraOcorrenciasParecida(string3, subseq3[0])\n",
    "print(\"A palavra \"+ str(subseq3[0]) + \" possui \" + str(numOcor)+ \" ocorrência(s) nesta string com no máximo um erro. Caso existam, elas estão nas seguintes posições:\\n\")\n",
    "print(lst)\n",
    "\n",
    "print(\"\\n\")\n",
    "\n",
    "lst,numOcor = encontraOcorrenciasParecida(string3, subseq3[1])\n",
    "print(\"A palavra \"+ str(subseq3[1]) + \" possui \" + str(numOcor)+ \" ocorrência(s) nesta string com no máximo um erro. Caso existam, elas estão nas seguintes posições:\\n\")\n",
    "print(lst)\n",
    "\n",
    "print(\"\\n\")\n",
    "\n",
    "lst,numOcor = encontraOcorrenciasParecida(string3, subseq3[2])\n",
    "print(\"A palavra \"+ str(subseq3[2]) + \" possui \" + str(numOcor)+ \" ocorrência(s) nesta string com no máximo um erro. Caso existam, elas estão nas seguintes posições:\\n\")\n",
    "print(lst)\n",
    "\n",
    "print(\"\\n\")\n"
   ]
  }
 ],
 "metadata": {
  "kernelspec": {
   "display_name": "Python 2",
   "language": "python",
   "name": "python2"
  },
  "language_info": {
   "codemirror_mode": {
    "name": "ipython",
    "version": 2
   },
   "file_extension": ".py",
   "mimetype": "text/x-python",
   "name": "python",
   "nbconvert_exporter": "python",
   "pygments_lexer": "ipython2",
   "version": "2.7.13"
  }
 },
 "nbformat": 4,
 "nbformat_minor": 2
}
