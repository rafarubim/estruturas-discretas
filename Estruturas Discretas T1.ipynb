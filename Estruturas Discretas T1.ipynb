{
 "cells": [
  {
   "cell_type": "markdown",
   "metadata": {
    "collapsed": false
   },
   "source": []
  },
  {
   "cell_type": "markdown",
   "metadata": {},
   "source": [
    "Teorema 1 : xn−yn é divisível por x−y para quaisquer x e y inteiros e todos o valores de n inteiros e maiores que zero.\n",
    "Prova 1 A prova é feita por indução matemática utilizando k como parâmetro de indução. O teorema 1 pode ser enunciado:\n",
    "Teorema 1 (k): xk −yk é divisível por x−y para quaisquer x e y inteiros e todos o valores de k inteiros e maiores que zero.\n",
    "Teorema do Caso Base: 1 Seja k = 1 (o menor valor para o qual k tem que ser verdade). Nesse caso temos que provar que x−y é divisível por x−y para qualquer valor de x e y. O que é trivialmente verdade, sendo o quociente, q1, igual a 1.\n",
    "Teorema do Passo Indutivo: 1 Desejamos provar que se o teorema 1 é verdade para um k ﬁxo, isto é, podemos assumir que: xk −yk = qk.(x−y) onde qk é um inteiro, então é possível mostrar que xk+1−yk+1 = qk+1.(x−y) para qk+1 inteiro. Ou seja, temos que mostrar é verdade também para k + 1. Isto é, que podemos obter qk+1 inteiro a partir de qk se o teorema 1 é verdade para k. Como: xk+1 −yk+1 = xk+1 −xk.y + xk.y−yk+1 = xk(x−y) + y(xk −yk) Como, pela hipótese indutiva, temos que xk −yk = qk.(x−y), podemos escrever: xk+1 −yk+1 = xk(x−y) + y(xk −yk) = xk(x−y) + y.qk.(x−y) = (xk + y.qk)(x−y) Como x é inteiro, xk é inteiro. Como y e qk são inteiros seu produto também é inteiro. Portanto (xk + y.qk) é inteiro e qk+1 = (xk + y.qk) é inteiro, ou seja: xk+1 −yk+1 = (xk + y.qk)(x−y) = qk+1.(x−y) O teorema acima resolve o problema de determinar o quociente entre xk − yk e x − y. Assim deseja-se um algoritmo que dados x, y, e k inteiros determine esse quociente."
   ]
  },
  {
   "cell_type": "code",
   "execution_count": null,
   "metadata": {
    "collapsed": true
   },
   "outputs": [],
   "source": [
    "def ObterQuociente(x, y, k):\n",
    "    if (k == 1):\n",
    "        return 1\n",
    "    qk = x**(k - 1) + y * ObterQuociente(x, y, k - 1)\n",
    "    return qk\n",
    "\n",
    "def erroAlgoritmo(x, y, k):\n",
    "    res = ObterQuociente(x, y, k)\n",
    "    return ((x**k - y**k)/(x - y)) - res"
   ]
  },
  {
   "cell_type": "markdown",
   "metadata": {},
   "source": []
  },
  {
   "cell_type": "code",
   "execution_count": 18,
   "metadata": {
    "collapsed": false
   },
   "outputs": [
    {
     "name": "stdout",
     "output_type": "stream",
     "text": [
      "|[[1, 2], [3, 4], [5, 6], [7, 8], [9, 10], [11, 12], [13, 14], [15, 16]]|\n",
      "\n",
      "|[[1, 3], [2, 4], [5, 7], [6, 8], [9, 11], [10, 12], [13, 15], [14, 16]]|\n",
      "\n",
      "|[[1, 4], [2, 3], [5, 8], [6, 7], [9, 12], [10, 11], [13, 16], [14, 15]]|\n",
      "\n",
      "|[[1, 5], [2, 6], [3, 7], [4, 8], [9, 13], [10, 14], [11, 15], [12, 16]]|\n",
      "\n",
      "|[[1, 6], [2, 7], [3, 8], [4, 5], [9, 14], [10, 15], [11, 16], [12, 13]]|\n",
      "\n",
      "|[[1, 7], [2, 8], [3, 5], [4, 6], [9, 15], [10, 16], [11, 13], [12, 14]]|\n",
      "\n",
      "|[[1, 8], [2, 5], [3, 6], [4, 7], [9, 16], [10, 13], [11, 14], [12, 15]]|\n",
      "\n",
      "|[[1, 9], [2, 10], [3, 11], [4, 12], [5, 13], [6, 14], [7, 15], [8, 16]]|\n",
      "\n",
      "|[[1, 10], [2, 11], [3, 12], [4, 13], [5, 14], [6, 15], [7, 16], [8, 9]]|\n",
      "\n",
      "|[[1, 11], [2, 12], [3, 13], [4, 14], [5, 15], [6, 16], [7, 9], [8, 10]]|\n",
      "\n",
      "|[[1, 12], [2, 13], [3, 14], [4, 15], [5, 16], [6, 9], [7, 10], [8, 11]]|\n",
      "\n",
      "|[[1, 13], [2, 14], [3, 15], [4, 16], [5, 9], [6, 10], [7, 11], [8, 12]]|\n",
      "\n",
      "|[[1, 14], [2, 15], [3, 16], [4, 9], [5, 10], [6, 11], [7, 12], [8, 13]]|\n",
      "\n",
      "|[[1, 15], [2, 16], [3, 9], [4, 10], [5, 11], [6, 12], [7, 13], [8, 14]]|\n",
      "\n",
      "|[[1, 16], [2, 9], [3, 10], [4, 11], [5, 12], [6, 13], [7, 14], [8, 15]]|\n",
      "\n"
     ]
    }
   ],
   "source": [
    "def printMatrix(A):\n",
    "    for i in range(len(A)):\n",
    "        print (\"|\" + str(A[i]) +\"|\\n\")\n",
    "        \n",
    "def mudarNumEqDup(rodada):\n",
    "    qtdJogos = len(rodada)\n",
    "    qtdEquipes = qtdJogos * 2\n",
    "    \n",
    "    novaRodada = rodada[:]\n",
    "    for i in range(qtdJogos):\n",
    "        novaRodada[i] = rodada[i][:]\n",
    "    \n",
    "    for i in range(qtdJogos):\n",
    "        jogo = novaRodada[i]\n",
    "        jogo[0] += qtdEquipes\n",
    "        jogo[1] += qtdEquipes\n",
    "    return novaRodada\n",
    "\n",
    "def equipes(k):\n",
    "    numEq = 2**k\n",
    "    \n",
    "    if (k <= 1):\n",
    "        return [[[1, 2]]]\n",
    "    \n",
    "    matrizRodadas = []\n",
    "    \n",
    "    rodadasAntes = equipes(k - 1)\n",
    "    \n",
    "    for i in range(len(rodadasAntes)):\n",
    "        rodadasEsq = rodadasAntes[i]\n",
    "        rodadasDir = mudarNumEqDup(rodadasAntes[i])\n",
    "        matrizRodadas.append(rodadasEsq + rodadasDir)\n",
    "        \n",
    "    todasEquipes = range(1, numEq + 1)\n",
    "    \n",
    "    numNovasRodadas = numEq / 2\n",
    "    \n",
    "    novasRodadas = []\n",
    "    for j in range(numNovasRodadas):\n",
    "        rodada = []\n",
    "        for i in range(numNovasRodadas):\n",
    "            rodada.append([todasEquipes[i], todasEquipes[numNovasRodadas + ((i+j) % numNovasRodadas)]])\n",
    "        novasRodadas.append(rodada)\n",
    "    \n",
    "    for i in range(len(novasRodadas)):\n",
    "        matrizRodadas.append(novasRodadas[i])\n",
    "    \n",
    "    return matrizRodadas\n",
    "\n",
    "printMatrix(equipes(4))"
   ]
  },
  {
   "cell_type": "code",
   "execution_count": null,
   "metadata": {
    "collapsed": true
   },
   "outputs": [],
   "source": []
  }
 ],
 "metadata": {
  "kernelspec": {
   "display_name": "Python 2",
   "language": "python",
   "name": "python2"
  },
  "language_info": {
   "codemirror_mode": {
    "name": "ipython",
    "version": 2
   },
   "file_extension": ".py",
   "mimetype": "text/x-python",
   "name": "python",
   "nbconvert_exporter": "python",
   "pygments_lexer": "ipython2",
   "version": "2.7.13"
  }
 },
 "nbformat": 4,
 "nbformat_minor": 2
}
