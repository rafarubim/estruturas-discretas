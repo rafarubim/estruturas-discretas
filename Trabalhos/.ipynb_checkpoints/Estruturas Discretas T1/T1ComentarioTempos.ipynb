{
 "cells": [
  {
   "cell_type": "markdown",
   "metadata": {
    "collapsed": true
   },
   "source": [
    "<h3>Comentário sobre os testes de execução</h3>\n",
    "<p>Utilizamos o módulo CPUtimer disponibilizado no site do curso e medimos o tempo de execução das funções de acordo com os seguintes critérios:</p>"
   ]
  },
  {
   "cell_type": "markdown",
   "metadata": {},
   "source": [
    "**Tempo de execução < 5s**"
   ]
  },
  {
   "cell_type": "code",
   "execution_count": 2,
   "metadata": {
    "collapsed": false
   },
   "outputs": [
    {
     "name": "stdout",
     "output_type": "stream",
     "text": [
      "Tempo Total: 5.000115699865157 s\n",
      "Número de Execuções: \n",
      "1276022\n"
     ]
    }
   ],
   "source": [
    "import CPUtimer\n",
    "\n",
    "timer = CPUtimer.CPUTimer()\n",
    "\n",
    "numExecucoes = 0\n",
    "timer.reset()\n",
    "timer.start()\n",
    "tempo = timer.get_time()\n",
    "\n",
    "while(tempo < 5):  \n",
    "    #Colocar aqui a função para medir o tempo de execução\n",
    "    tempo = timer.get_time()\n",
    "    timer.lap()\n",
    "    numExecucoes += 1\n",
    "    \n",
    "timer.stop()\n",
    "print(\"Tempo Total: \" + str( timer.get_time() ) +\" s\")\n",
    "print(\"Número de Execuções: \")\n",
    "print(numExecucoes)"
   ]
  },
  {
   "cell_type": "markdown",
   "metadata": {},
   "source": [
    "**Tempo de execução >= 5s**"
   ]
  },
  {
   "cell_type": "code",
   "execution_count": 3,
   "metadata": {
    "collapsed": false
   },
   "outputs": [
    {
     "name": "stdout",
     "output_type": "stream",
     "text": [
      "Tempo Total: 4.5253576315573696e-05 s\n"
     ]
    }
   ],
   "source": [
    "import CPUtimer\n",
    "\n",
    "timer = CPUtimer.CPUTimer()\n",
    "\n",
    "timer.reset()\n",
    "timer.start()\n",
    "\n",
    "#Colocar aqui a função para medir o tempo de execução\n",
    "    \n",
    "timer.stop()\n",
    "print(\"Tempo Total: \" + str( timer.get_time() ) +\" s\")"
   ]
  }
 ],
 "metadata": {
  "kernelspec": {
   "display_name": "Python 2",
   "language": "python",
   "name": "python2"
  },
  "language_info": {
   "codemirror_mode": {
    "name": "ipython",
    "version": 2
   },
   "file_extension": ".py",
   "mimetype": "text/x-python",
   "name": "python",
   "nbconvert_exporter": "python",
   "pygments_lexer": "ipython2",
   "version": "2.7.13"
  }
 },
 "nbformat": 4,
 "nbformat_minor": 2
}
