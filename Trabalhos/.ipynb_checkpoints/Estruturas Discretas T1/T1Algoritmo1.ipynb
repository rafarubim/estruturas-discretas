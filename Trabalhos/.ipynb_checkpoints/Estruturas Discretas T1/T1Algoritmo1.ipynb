{
 "cells": [
  {
   "cell_type": "code",
   "execution_count": null,
   "metadata": {
    "collapsed": true
   },
   "outputs": [],
   "source": [
    "\"Funcao para obter o quociente entre x^(k) - y^(k) e x - y\"\n",
    "def ObterQuociente(x, y, k):\n",
    "    \"Se chegou no caso base k = 1\" \n",
    "    if (k == 1):\n",
    "        \"Entao retorna q_(k) = 1\"\n",
    "        return 1\n",
    "    \"Se esta no calculo de algum quociente que dependende do anterior\"\n",
    "    \"Entao calcula q_(k) = x^(k - 1) + y * q_(k - 1)\"\n",
    "    qk = x**(k - 1) + y * ObterQuociente(x, y, k - 1)\n",
    "    return qk\n",
    "\n",
    "\"Funcao de verificacao de erros na funcao ObterQuociente\"\n",
    "def erroAlgoritmo(x, y, k):\n",
    "    \"Calcula o resultado do quociente dado pela funcao ObterQuociente\"\n",
    "    res = ObterQuociente(x, y, k)\n",
    "    \"Verifica o erro entre o valor real e o valor obtido do quociente\"\n",
    "    return ((x**k - y**k)/(x - y)) - res"
   ]
  }
 ],
 "metadata": {
  "kernelspec": {
   "display_name": "Python 2",
   "language": "python",
   "name": "python2"
  },
  "language_info": {
   "codemirror_mode": {
    "name": "ipython",
    "version": 2
   },
   "file_extension": ".py",
   "mimetype": "text/x-python",
   "name": "python",
   "nbconvert_exporter": "python",
   "pygments_lexer": "ipython2",
   "version": "2.7.13"
  }
 },
 "nbformat": 4,
 "nbformat_minor": 2
}
