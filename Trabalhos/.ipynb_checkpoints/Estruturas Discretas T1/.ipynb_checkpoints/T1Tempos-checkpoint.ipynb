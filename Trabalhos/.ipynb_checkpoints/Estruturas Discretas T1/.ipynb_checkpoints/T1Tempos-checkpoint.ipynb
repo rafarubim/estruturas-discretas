{
 "cells": [
  {
   "cell_type": "code",
   "execution_count": 58,
   "metadata": {
    "collapsed": false
   },
   "outputs": [
    {
     "name": "stdout",
     "output_type": "stream",
     "text": [
      "Tempo Total: 5.041981322911852 s\n"
     ]
    }
   ],
   "source": [
    "import CPUtimer\n",
    "\n",
    "def ObterQuociente(x, y, k):\n",
    "    if (k == 1):\n",
    "        return 1\n",
    "    qk = x**(k - 1) + y * ObterQuociente(x, y, k - 1)\n",
    "    return qk\n",
    "\n",
    "def erroAlgoritmo(x, y, k):\n",
    "    res = ObterQuociente(x, y, k)\n",
    "    return ((x**k - y**k)/(x - y)) - res\n",
    "\n",
    "timer = CPUtimer.CPUTimer()\n",
    "\n",
    "timer.reset()\n",
    "timer.start()\n",
    "for i in range(33000):  \n",
    "    ObterQuociente(530,378,100)\n",
    "    timer.lap()\n",
    "timer.stop()\n",
    "print(\"Tempo Total: \" + str( timer.get_time() ) +\" s\")"
   ]
  },
  {
   "cell_type": "code",
   "execution_count": null,
   "metadata": {
    "collapsed": true
   },
   "outputs": [],
   "source": []
  },
  {
   "cell_type": "code",
   "execution_count": null,
   "metadata": {
    "collapsed": true
   },
   "outputs": [],
   "source": []
  }
 ],
 "metadata": {
  "kernelspec": {
   "display_name": "Python 2",
   "language": "python",
   "name": "python2"
  },
  "language_info": {
   "codemirror_mode": {
    "name": "ipython",
    "version": 2
   },
   "file_extension": ".py",
   "mimetype": "text/x-python",
   "name": "python",
   "nbconvert_exporter": "python",
   "pygments_lexer": "ipython2",
   "version": "2.7.13"
  }
 },
 "nbformat": 4,
 "nbformat_minor": 2
}
