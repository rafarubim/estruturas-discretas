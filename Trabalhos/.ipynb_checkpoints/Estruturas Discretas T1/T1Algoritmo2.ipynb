{
 "cells": [
  {
   "cell_type": "code",
   "execution_count": 13,
   "metadata": {
    "collapsed": false
   },
   "outputs": [
    {
     "name": "stdout",
     "output_type": "stream",
     "text": [
      "Rodada 1: [[1, 2], [3, 4]]\n",
      "\n",
      "Rodada 2: [[1, 3], [2, 4]]\n",
      "\n",
      "Rodada 3: [[1, 4], [2, 3]]\n",
      "\n"
     ]
    }
   ],
   "source": [
    "\"Funcao que imprime uma matriz de rodadas\"\n",
    "def printMatrix(A):\n",
    "    for i in range(len(A)):\n",
    "        print (\"Rodada \" + str(i+1)+ \": \"+ str(A[i]) +\"\\n\")\n",
    "\n",
    "\"Funcao que altera o numero de equipes de uma matriz de rodadas de 1 ate N/2 para N/2 ate N\"        \n",
    "def mudarNumEqDup(rodada):\n",
    "    qtdJogos = len(rodada)\n",
    "    qtdEquipes = qtdJogos * 2\n",
    "    \n",
    "    \"Copia a matriz de rodadas para uma nova matriz\"\n",
    "    novaRodada = rodada[:]\n",
    "    for i in range(qtdJogos):\n",
    "        novaRodada[i] = rodada[i][:]\n",
    "    \n",
    "    \"Aumenta o valor do numero das equipes para os proximos N/2 valores\"\n",
    "    for i in range(qtdJogos):\n",
    "        jogo = novaRodada[i]\n",
    "        jogo[0] += qtdEquipes\n",
    "        jogo[1] += qtdEquipes\n",
    "    return novaRodada\n",
    "\n",
    "\"Funcao que calcula a matriz de rodadas para quaisquer N equipes\"\n",
    "def equipes(k):\n",
    "    numEq = 2**k\n",
    "    \n",
    "    \"Se estamos no teorema do caso base, temos 2 equipes\"\n",
    "    if (k == 1):\n",
    "        \"Entao so temos 1 rodada e 1 jogo possivel entre as equipes\"\n",
    "        return [[[1, 2]]]\n",
    "    \n",
    "    matrizRodadas = []\n",
    "    \n",
    "    \"Pega todas as rodadas antigas do numero anterior de equipes\"\n",
    "    rodadasAntes = equipes(k - 1)\n",
    "    \n",
    "    \"Cria as primeiras rodadas da matriz para as N equipes juntando os jogos de 1 ate N/2 equipes e N/2 ate N equipes restantes\"\n",
    "    for i in range(len(rodadasAntes)):\n",
    "        \"Pega a matriz de rodadas de 1 ate N/2 equipes\"\n",
    "        rodadasEsq = rodadasAntes[i]\n",
    "        \"Altera a matriz de 1 ate N/2 equipes para criar uma matriz de N/2 ate N equipes\"\n",
    "        rodadasDir = mudarNumEqDup(rodadasAntes[i])\n",
    "        \"Junta os jogos das rodadas das matrizes para criar as primeiras rodadas da matriz de rodadas de N equipes\"\n",
    "        matrizRodadas.append(rodadasEsq + rodadasDir)\n",
    "        \n",
    "    todasEquipes = range(1, numEq + 1)\n",
    "    \n",
    "    \"Define as rodadas que ainda falta criar para a nova matriz de N equipes\"\n",
    "    \n",
    "    numNovasRodadas = numEq / 2\n",
    "    numNovasRodadas=int(numNovasRodadas)\n",
    "    \n",
    "    novasRodadas = []\n",
    "    for j in range(numNovasRodadas):\n",
    "        rodada = []\n",
    "        for i in range(numNovasRodadas):\n",
    "            \"Adiciona jogos com as novas combinacoes entre os elementos de 1 ate N/2 e os elementoos de N/2 a N em novas rodadas\"\n",
    "            rodada.append([todasEquipes[i], todasEquipes[numNovasRodadas + ((i+j) % numNovasRodadas)]])\n",
    "        novasRodadas.append(rodada)\n",
    "    \n",
    "    \"Adiciona as novas rodadas criadas a matriz de rodadas para N equipes\"\n",
    "    for i in range(len(novasRodadas)):\n",
    "        matrizRodadas.append(novasRodadas[i])\n",
    "    \n",
    "    return matrizRodadas\n",
    "\n",
    "printMatrix(equipes(2))"
   ]
  },
  {
   "cell_type": "code",
   "execution_count": null,
   "metadata": {
    "collapsed": true
   },
   "outputs": [],
   "source": []
  }
 ],
 "metadata": {
  "kernelspec": {
   "display_name": "Python 2",
   "language": "python",
   "name": "python2"
  },
  "language_info": {
   "codemirror_mode": {
    "name": "ipython",
    "version": 2
   },
   "file_extension": ".py",
   "mimetype": "text/x-python",
   "name": "python",
   "nbconvert_exporter": "python",
   "pygments_lexer": "ipython2",
   "version": "2.7.13"
  }
 },
 "nbformat": 4,
 "nbformat_minor": 2
}
