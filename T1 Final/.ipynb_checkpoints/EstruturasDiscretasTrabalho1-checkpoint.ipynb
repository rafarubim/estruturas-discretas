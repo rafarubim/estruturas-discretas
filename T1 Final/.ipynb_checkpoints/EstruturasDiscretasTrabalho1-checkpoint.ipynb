{
 "cells": [
  {
   "cell_type": "markdown",
   "metadata": {},
   "source": [
    "# Trabalho 1 - Estruturas Discretas\n",
    "\n",
    "<p>**PUC-Rio, INF1631, Data de entrega: 15/05/2017**</p>\n",
    "<p>**Alunos/Matrículas:**</p>\n",
    "<p>**Rafael Rubim Cabral - 1511068**</p>\n",
    "<p>**Gabriela Bevilacqua Gutierrez - 1511241**</p>\n",
    "<p>**Gabriel de Andrade Busquim - 1510549**</p>"
   ]
  },
  {
   "cell_type": "markdown",
   "metadata": {},
   "source": [
    "<h2>Questão 1:</h2>\n",
    "<p>**Teorema 1:  $x^{n} − y^{n}$ é divisível por $x − y$ para quaisquer $x$ e $y$ inteiros e todos o valores de $n$ inteiros e maiores que zero.**</p>"
   ]
  },
  {
   "cell_type": "markdown",
   "metadata": {},
   "source": [
    "<h3>Prova do teorema por inducão (copiado do enunciado):</h3>\n",
    "<p>***Comentário: como a prova assume que a divisão é válida para quaisquer valores de $x$ e $y$ inteiros, desconsideramos o problema do caso $x = y$ que resultaria numa divisão por 0.***</p>\n",
    "<p>A prova é feita por indução matemática utilizando $k$ como parâmetro de indução. O teorema 1 pode ser enunciado:</p>\n",
    "<p>Teorema 1 $(k)$: $x^{k}−y^{k}$ é divisível por $x−y$ para quaisquer $x$ e $y$ inteiros e todos o valores de $k$ inteiros e maiores que zero.</p>\n",
    "<h5>Teorema do Caso Base</h5>\n",
    "<p>Seja $k = 1$ (o menor valor para o qual $k$ tem que ser verdade). Nesse caso temos que provar que $x−y$ é divisível por $x−y$ para qualquer valor de $x$ e $y$. O que é trivialmente verdade, sendo o quociente, $q_{1}$, igual a 1.</p>\n",
    "<h5>Teorema do Passo Indutivo</h5>\n",
    "<p>Desejamos provar que se o teorema 1 é verdade para um $k$ ﬁxo, isto é, podemos assumir que: $x^{k}−y^{k} = q_{k}.(x−y)$ onde $q_{k}$ é um inteiro, então é possível mostrar que $x^{k+1}−y^{k+1} = q_{k+1}.(x−y)$ para $q_{k+1}$ inteiro. Ou seja, temos que mostrar é verdade também para $k + 1$. Isto é, que podemos obter $q_{k+1}$ inteiro a partir de $q_{k}$ se o teorema 1 é verdade para $k$.</p>\n",
    "<p>Como: $x^{k+1}−y^{k+1} = x^{k+1}−x^{k}.y + x^{k}.y−y^{k+1} = x^{k}(x−y) + y(x^{k}−y^{k})$</p>\n",
    "<p>Como, pela hipótese indutiva, temos que $x^{k}−y^{k} = q_{k}.(x−y)$, podemos escrever:</p>\n",
    "<p>$x^{k+1}−y^{k+1} = x^{k}(x−y) + y(x^{k}−y^{k}) = x^{k}(x−y) + y.q_{k}.(x−y) = (x^{k} + y.q_{k})(x−y)$</p>\n",
    "<p>Como $x$ é inteiro, $x^{k}$ é inteiro.</p>\n",
    "<p>Como $y$ e $q_{k}$ são inteiros seu produto também é inteiro. Portanto $(x^{k} + y.q_{k})$ é inteiro e $q_{k+1} = (x^{k} + y.q_{k})$ é inteiro, ou seja: $x^{k+1}−y^{k+1} = (x^{k} + y.q_{k})(x−y) = q_{k+1}.(x−y)$.</p>"
   ]
  },
  {
   "cell_type": "markdown",
   "metadata": {},
   "source": [
    "<h3>Surgimento / Explicação do algoritmo:</h3>\n",
    "<p>De acordo com a prova por indução demonstrada no enunciado, a divisibilidade entre $x^{k} - y^{k}$ e $x - y$ é possível para qualquer valor de $k$ (parâmetro de indução) e, o quociente dessa divisão pode ser determinado em função de $x$, $y$, $k$ e do quociente da divisão anterior. Porém, para conseguirmos definir todos os quocientes $q_{k}$ para qualquer $k$, precisamos de pelo menos um quociente conhecido. Esse quociente é então definido por um caso base, por exemplo $q_{1} = 1$ para $k = 1$ e, a partir desse quociente conseguimos definir qualquer outro quociente em função de $k$.</p>\n",
    "\n",
    "<p>Dessa forma, o algoritmo para calcular um quociente $q_{k}$ deve se basear na fórmula de obtenção do quociente $q_{k}$ em função do quociente anterior $q_{k - 1}$ e ao chegar no quociente definido para o caso base, poderemos então calcular todos os quocientes até o quociente $q_{k}$.</p>\n",
    "\n",
    "<p>Ao definirmos como o algoritmo deve calcular os quocientes, podemos determinar que ele receberá os valores de $x$, $y$ e $k$ como parâmetros. Além disso, o caso base será definido dentro da própria função e a função retornará o quociente entre $x^{k} - y^{k}$ e $x - y$.</p>\n",
    "\n",
    "<p>Por fim, determinamos que um bom algoritmo para esse teorema é um algoritmo que utilize recursão para calcular o valor do quociente requerido $q_{k}$ em função dos valores dos quocientes anteriores $q_{k - 1}$, no qual a condição de parada ou fim da recursão é quando chamamos a função para um quociente definido no caso base, nesse caso $q_{k} = 1$.</p>"
   ]
  },
  {
   "cell_type": "markdown",
   "metadata": {},
   "source": [
    "<h3>Descrição informal do algoritmo:</h3>\n",
    "<p>O algoritmo calcula $q_{k}$ através dos parâmetros $x$, $y$ e $k$.</p>\n",
    "<p>No caso base $k = 1$, trivialmente sabe-se que $q_{k} = 1$, então 1 é retornado.</p>\n",
    "<p>Para outros valores de $k$ recebidos, calcula-se $q_{k}$ de acordo com a fórmula descrita na prova por indução:</p>\n",
    "<p>$q_{k} = x^{k-1} + y.q_{k-1}$</p>\n",
    "<p>Note que para encontrar $q_{k-1}$, deve-se aplicar a mesma fórmula acima recursivamente. O caso base permite calcular a fórmula analiticamente e encerrar a recursão. O algoritmo então retornará $q_{k}$.</p>"
   ]
  },
  {
   "cell_type": "markdown",
   "metadata": {},
   "source": [
    "<h3>Código do algoritmo:</h3>"
   ]
  },
  {
   "cell_type": "code",
   "execution_count": 1,
   "metadata": {
    "collapsed": false
   },
   "outputs": [
    {
     "name": "stdout",
     "output_type": "stream",
     "text": [
      "1\n"
     ]
    }
   ],
   "source": [
    "#Função para obter o quociente q_{k}\n",
    "def ObterQuociente(x, y, k):\n",
    "    #Se chegou no caso base k = 1\n",
    "    if (k == 1):\n",
    "        #Então retorna q_{k} = 1\n",
    "        return 1\n",
    "    #Se esta no calculo de algum quociente que depende do quociente anterior\n",
    "    #Então calcula q_{k} em função de q_{k - 1}\n",
    "    q_k = x**(k - 1) + y * ObterQuociente(x, y, k - 1)\n",
    "    return q_k\n",
    "\n",
    "#Função de verificação de erros na função ObterQuociente\n",
    "def erroAlgoritmo(x, y, k):\n",
    "    #Calcula o resultado do quociente obtido pela função ObterQuociente\n",
    "    res = ObterQuociente(x, y, k)\n",
    "    #Verifica o erro entre o valor real e o valor obtido do quociente\n",
    "    return ((x**k - y**k)/(x - y)) - res\n",
    "\n",
    "a = ObterQuociente(1,1,1)\n",
    "print(a)"
   ]
  },
  {
   "cell_type": "markdown",
   "metadata": {},
   "source": [
    "<h3>Comentários de desenvolvimento</h3>\n",
    "<p>A função que fizemos segue exatamente a fórmula apresentada na descrição informal do algoritmo.</p>\n",
    "<p>Assumimos que $x$ e $y$ serão diferentes para que o valor teórico faça sentido.</p>\n",
    "<p>Nos testes, valores muito grandes de $x$ e $y$ não fazem muita diferença para o tempo do algoritmo, pois não são parâmetros indutivos.</p>\n",
    "<p>Testes com valores muito grandes de $k$ aumentaram significativamente o tempo de execução do algoritmo e reduziram o número de execuções para 5 segundos. Valores muito grandes de $k$ também podem exceder o limite de chamadas recursivas do python.</p>"
   ]
  },
  {
   "cell_type": "markdown",
   "metadata": {},
   "source": [
    "<h3>Testes de Execução:</h3>\n",
    "\n",
    "    Dados:  x = 3\n",
    "            y = 1\n",
    "            k = 2\n",
    "           \n",
    "    Tempo total:5 segundos\n",
    "    Número de execuções: 1.329.979\n",
    "                         1.339.193\n",
    "                         1.355.177\n",
    "                         1.364.212\n",
    "    Média do número de execuções: 13.471.140\n",
    "    Média do tempo de cada execução:5/13.471.140=0,371 microssegundos\n",
    "\n",
    "    Dados:  x = 10\n",
    "            y = 7\n",
    "            k = 20\n",
    "    Número de execuções: 213.162\n",
    "                         215.357\n",
    "                         214.887\n",
    "                         207.414\n",
    "    Tempo total:5 segundos\n",
    "    Média do número de execuções: 212.705\n",
    "    Média do tempo de cada execução:5/212.705=23,507 microssegundos\n",
    "\n",
    "    Dados:  x = 530\n",
    "            y = 378\n",
    "            k = 100\n",
    "    Tempo total:5 segundos\n",
    "    Número de execuções: 28.512\n",
    "                         28.659\n",
    "                         28.382\n",
    "                         28.630\n",
    "    Média do número de execuções: 28.545\n",
    "    Média do tempo de cada execução:5/28.545=17,516 milissegundos"
   ]
  },
  {
   "cell_type": "markdown",
   "metadata": {
    "collapsed": true
   },
   "source": [
    "<h2>Questão 2:</h2>\n",
    "<p>**2 . Seja $G = (V,E)$ um grafo denso, i.e., $∀v,w ∈ V$, $d(v)+d(w) ≥ n$, onde $d(v) = |\\{u|(u,v) ∈ E\\}|$ (o grau de v) e $n = |V|$.**</p>\n",
    "<p>**Um ciclo Hamiltoniano em $G$ é um ciclo que inicia em um vértice $v$ ($v = 1$, por exemplo), passa exatamente um vez em cada\n",
    "um dos demais vértices de $G$ e retorna ao vértice $v$. Considere o teorema abaixo:**</p>\n",
    "<p>**Teorema 2 : Seja $G = (V,E)$ um grafo denso. Sabe-se encontrar um caminho Hamiltoniano em $G$ onde $|V|>= 3$**</p>"
   ]
  },
  {
   "cell_type": "markdown",
   "metadata": {},
   "source": [
    "<h3>Prova do teorema por inducão:</h3>\n",
    "<p>$k$ será o parâmetro indutivo, que é o número de arestas do grafo $G$. O teorema pode ser enunciado:</p>\n",
    "    \n",
    "<p>Teorema 2 $(k)$: Seja $G= (V,E)$ um grafo denso. Sabe-se encontrar um caminho Hamiltoniano em $G$ onde $|V|>= 3$ e $|E| = k$.</p>\n",
    "    \n",
    "<h5>Teorema do Caso Base</h5>\n",
    "<p>Considere o gráfico $G$ denso com maior número de arestas possível e com $|V| = n$ vértices. $G$ é o grafo completo (trivialmente denso) e portanto possui<br />$|E| = k = n*(n-1)/2$ arestas.</p>\n",
    "<p>Considere a enumeração $1..n$ dos vértices de $G$. Encontrar um ciclo Hamiltoniano é fácil: partindo do vértice 1, pode-se visitar os vértices $2, 3, .. n$ em ordem, voltando finalmente ao vértice 1, pois todos os vértices possuem arestas entre si no grafo completo.</p>\n",
    "    \n",
    "<p>Já foi provado que para n fixo, pode-se encontrar um caminho Hamiltoniano no grafo completo. Precisa-se provar o mesmo para gráficos de número de arestas $k$ diferente (não completos). Como o grafo completo é o que possui o maior número de arestas, qualquer outro grafo terá um número de arestas $k$ menor que $n*(n-1)/2$. Portanto, o TPI será desenvolvido a partir da hipótese indutiva que sabe-se encontrar um ciclo Hamiltoniano para um grafo denso de $n$ vértices e $k$ arestas e a tese que então é possível encontrar um ciclo Hamiltoniano para um grafo denso de $n$ vértices e $k-1$ arestas.</p>\n",
    "    \n",
    "<h5>Teorema do Passo Indutivo</h5>\n",
    "<p>Hipótese indutiva: sabe-se encontrar um ciclo Hamiltoniano para um grafo denso de $n$ vértices e $k$ arestas.</p>\n",
    "<p>Seja um grafo denso não completo $G = (V,E)$ de $n$ vértices e $k-1$ arestas. Como $G$ é não completo, há pelo menos dois vértices $v, w$ dele que não são conectados. Construa um novo grafo $G' = (V,E \\cup \\{\\{v,w\\}\\})$ de $k$ arestas, que é tal como o grafo $G$, mas com uma aresta a mais, que conecta $v$ e $w$. Pela hipótese indutiva, é possível encontrar um ciclo Hamiltoniano $H$ em $G'$.</p>\n",
    "<p>Agora, há duas possibilidades: o ciclo Hamiltoniano $H$ pode não passar pela aresta $\\{v,w\\}$ ou o ciclo Hamiltoniano $H$ pode passar pela aresta $\\{v,w\\}$.</p>\n",
    "<p>Se $H$ não passa por $\\{v,w\\}$, já que a única diferença entre $G$ e $G'$ é que $G$ não possui essa aresta, então o ciclo $H$ também é um ciclo Hamiltoniano em $G$. Assim, encontrou-se um ciclo Hamiltoniano para o grafo de $k-1$ arestas.</p>\n",
    "<p>Se $H$ passa por $\\{v,w\\}$, considere o caminho entre $v$ e $w$ que segue o ciclo mas que não passa pela aresta $\\{v,w\\}$ (Figura 1). Esse caminho existe tanto em $G$ quanto em $G'$, porém em $G'$, como há a aresta $\\{v,w\\}$, pode-se fechar o caminho num ciclo.</p>"
   ]
  },
  {
   "cell_type": "markdown",
   "metadata": {},
   "source": [
    "Figura 1\n",
    "![title](CicloHEmG.png)"
   ]
  },
  {
   "cell_type": "markdown",
   "metadata": {},
   "source": [
    "<p>Queremos encontrar um ciclo no grafo $G$, mas não existe a aresta $\\{v,w\\}$ nele, portanto precisamos encontrar outro jeito de remendar o caminho de forma a fechar o ciclo.</p>\n",
    "<p>Para auxiliar na demonstração, assuma uma orientação para o ciclo $H$ em $G'$ no sentido horário da figura 1. Se retiramos a aresta $\\{v,w\\}$, então $v$ estará logo antes de $w$ na orientação (pela figura 1). Enumeraremos os vértices do ciclo $H$ positivamente no sentido da orientação, considerando $w = 1$ e $v = n$.</p>\n",
    "<p>Agora, considere os vértices $i$, $i+1$ em relação à enumeração do ciclo $H$. Vamos supor que nos grafos $G$ e $G'$ existam arestas entre $\\{w,i+1\\}$ e entre $\\{v,i\\}$. Nesse caso, podemos remendar o caminho que ficou aberto em $G$ da seguinte forma: retire a aresta que liga $\\{i,i+1\\}$ do \"ciclo\" e coloque as arestas $\\{v,i\\}$ e $\\{w,i+1\\}$ de forma que agora se tem um novo ciclo em $G$. O novo ciclo seguirá de $i+1$ até $v$ exatamente como antes, então irá para $i$, que seguirá para $w$ como antes, mas em orientação reversa, então volta para $i+1$ (Figura 2).</p>"
   ]
  },
  {
   "cell_type": "markdown",
   "metadata": {
    "collapsed": true
   },
   "source": [
    "Figura 2\n",
    "![title](CicloRemendado.png)"
   ]
  },
  {
   "cell_type": "markdown",
   "metadata": {},
   "source": [
    "<p>Isso garante que caso o ciclo $H$ passe por $\\{v,w\\}$, há uma maneira de encontrar um novo ciclo $C$ que é válido em $G$ desde que a suposição feita seja válida, ou seja, que existam vértices $i, i+1$ vizinhos no ciclo $H$ tal que exitam arestas entre $\\{w,i+1\\}$ e entre $\\{v,i\\}$. Como os grafos $G$ e $G'$ são densos por hipótese, então de fato tal suposição é sempre válida, então mesmo que o ciclo $H$ passe por $\\{v,w\\}$ é possível encntrar um ciclo Hamiltoniano $C$ que vale em $G$. Isso será provado abaixo, na demonstração complementar.</p>\n",
    "<p>Assim, em todos os casos, é possível encontrar um ciclo Hamiltoniano em $G$ de $k-1$ arestas, comprovando a tese.</p>"
   ]
  },
  {
   "cell_type": "markdown",
   "metadata": {},
   "source": [
    "<h5>Demonstração complementar</h5>\n",
    "<p>Na prova por indução acima foi usado o fato não demonstrado de que, quando se possui um ciclo Hamiltoniano num grafo denso e se retira uma aresta $\\{v,w\\}$ que fazia parte desse ciclo, há sempre como encontrar dois vértices adjacentes $i, i+1$ segundo uma orientação predeterminada conectados por uma aresta que faz parte do ciclo de tal maneira que nesse grafo, se $w$ é posterior a $v$ na orientação definida, então existem arestas que conectam $\\{w,i+1\\}$ e $\\{v,i\\}$.</p>\n",
    "<p>Isso pode ser demonstrado partindo do princípio que em grafos densos, a soma dos graus de dois vértices não-adjacentes quaisquer é sempre maior ou igual ao número de vértices. Se denotarmos $d(r)$ como o grau de um vértice $r$, então teremos o seguinte no nosso caso, como $v$ e $w$ são vértices não adjacentes:</p>\n",
    "<p>$d(v) + d(w) >= n$</p>\n",
    "<p>$d(v) + d(w)$ é a quantidade total de arestas que saem de $v$ e $w$ e devem conectá-los a outros vértices do grafo. Sem contar com $v$ e $w$, restam $n-2$ vértices no grafo. Vamos chamar $n-2$ de $m$. Então $d(v) + d(w) >= m+2$.</p>\n",
    "<p>Cada vértice restante pode receber uma aresta de $v$ ou $w$, porém não mais de uma aresta de $v$ ou mais de uma de $w$. Se fizermos uma analogia com pombos e casas de pombos, podemos assumir a seguinte situação:</p>\n",
    "<p>- Os $m$ vértices restantes são cada um uma casa de pombos, que podem receber arestas (pombos)</p>\n",
    "<p>- Há dois tipos de pombos: pombos azuis (arestas que saem de $w$) e pombos vermelhos (arestas que saem de $v$)</p>\n",
    "<p>- Um pombo vermelho pode ocupar a mesma casa de um pombo azul, mas não pode haver mais de 1 pombo de uma cor em uma casa</p>\n",
    "<p>- Casas podem ficar vazias (há vértices que podem não se conectar a $v$ ou $w$)</p>\n",
    "<p>Para usar essa analogia na demonstração, precisaremos assumir que a ordem de disposição das casas é importante. Casas de pombo vizinhas entre si são vértices conectados por arestas do ciclo Hamiltoniano. Se imaginadas num esquema linear, a casa da extrema esquerda seria o vértice diretamente conectado a $v$ no ciclo (que não $w$) e a casa da extrema direita seria o vértice diretamente conectado a $w$ no ciclo (que não $v$) (Figura 3).</p>"
   ]
  },
  {
   "cell_type": "markdown",
   "metadata": {},
   "source": [
    "Figura 3\n",
    "![title](casasPombo.png)\n",
    "![title](pombas.png)"
   ]
  },
  {
   "cell_type": "markdown",
   "metadata": {},
   "source": [
    "<p>Note que como não se pode repetir pombos de cores iguais numa mesma casa (pois o grafo não é multigrafo), o máximo de pombos que se pode existir de uma cor é $m$, portanto $d(v) <= m$ e $d(w) <= m$. Como $d(v) + d(w) >= m+2$ então $d(v) >= 2$ e $d(w) >= 2$. Note também que o grafo em questão possui 4 ou mais vértices com $m >= 2$, pois por hipótese $n >= 3$ e o único grafo denso com $n = 3$ é o grafo completo, que não pode deixar de ter aresta entre $\\{v,w\\}$.</p>\n",
    "<p>Com todos esses limites estabelecidos, é sempre possível encaixar os pombos nas casas, pois como há m casas e há exatamente $m+2$ pombos, então 2 casas no mínimo terão que ser ocupadas por mais de um pombo de cor diferente $((m+2) - m)$ e há sempre no mínimo 2 casas e 2 pombos de cada cor.</p>\n",
    "<p>Agora vamos tentar fazer uma prova por contradição, em que levaremos em conta a organização das casas. Já foi provado que é possível encaixar todos os pombos nas casas, mas vamos adicionar uma restrição:</p>\n",
    "<p>- Um pombo azul não pode ficar em uma casa diretamente à esquerda de uma casa que contém um pombo vermelho</p>\n",
    "<p>Essa nova restrição não impede dois pombos diferentes de ficarem na mesma casa. Por um lado, essa restrição não traz importância apenas à ordem das casas como também à disposição dos pombos. Vamos tentar dispô-los de maneira que todos encaixem nas casas. Se colocarmos pombo por pombo em uma disposição, não fará diferença de colocarmos todos de uma vez nas casas. Então vamos colocar primeiro os pombos azuis: um deles já está necessariamente encaixado na extrema direita, então ainda restam $d(w)-1$ pombos. Note que em qualquer casa em que o próximo pombo azul for colocado, ele terá um efeito: \"bloqueará\" a casa diretamente à direita de se colocar pombos vermelhos nela (Figura 4).</p>"
   ]
  },
  {
   "cell_type": "markdown",
   "metadata": {},
   "source": [
    "Figura 4\n",
    "![title](casasPomboBloqueando.png)"
   ]
  },
  {
   "cell_type": "markdown",
   "metadata": {},
   "source": [
    "<p>Bloquear uma casa significa que quando formos colocar os pombos vermelhos nas casas, eles não poderão ser colocados em casas bloqueadas ou estaríamos quebrando a restrição que foi imposta. Note que o primeiro pombo azul que estava na extrema direita não bloqueou nenhuma casa, mas qualquer pombo azul posterior adicionará 1 bloqueio. A quantidade final de casas bloqueadas para pombos vermelhos, quando os azuis terminarem de ser encaixados, será igual a $d(w)-1$ bloqueios. Inicialmente, haviam $m$ casas livres para se colocar todos os $d(v)$ pombos vermelhos, mas após os bloqueios, o número de casas livres para vermelhos erá igual a $m-(d(w)-1)$, que é igual a $m-d(w)+1$ casas livres.</p>\n",
    "<p>Finalizando, como o grafo era denso e $d(v) + d(w) >= m+2$, então o número de pombos vermelhos é maior que: $d(v) >= m-d(w)+2$. Agora, como só há $m-d(w)+1$ casas livres para se encaixar pombos vermelhos, será impossível encaixar todos os pombos. Encontramos aí nossa contradição, pois antes de adicionar a restrição relativa ao posicionamento dos pombos, era possível sim encaixar todos os pombos nas caixas. Concluímos assim que em qualquer grafo em que ocorrem as condições iniciais, é impossível satisfazer a nova restrição, ou seja, sempre haverá pelo menos um pombo azul que ficará em uma casa diretamente à esquerda de uma casa que contém um pombo vermelho.</p>\n",
    "<p>Saindo de toda essa abstração, o que isso significa? Nossas casas adjacentes representavam os vértices do grafo, exceto $\\{v,w\\}$, conectadas por arestas que faziam parte do ciclo Hamiltoniano inicial. Os pombos azuis representavam arestas que ligam o vértice da casa em que estão com o o vértice $w$. Os pombos vermelhos representavam arestas que ligam o vértice da casa em que estão com o o vértice $v$. A conclusão a que chegamos é que sempre existem vértices adjacentes pelo ciclo Hamiltoniano (que denominaremos $i$ como o da direita, $i+1$ como o da esquerda), que estão ligados: o da esquerda ligado ao vértice $w$, o da direita ligado ao vértice $v$. Os lados esquerda/direita aqui são importantes pois respeitam a orientação mencionada no início da demonstração de maneira que quando conectarmos $\\{v,i\\}$ e $\\{w,i+1\\}$, como na figura 2, apareça um desenho de um X (xis) para que se possa remendar o ciclo Hamiltoniano.</p>"
   ]
  },
  {
   "cell_type": "markdown",
   "metadata": {},
   "source": [
    "<h3>Surgimento / Explicação do algoritmo:</h3>\n",
    "<p>Como demonstrado na prova por indução apresentada, o ciclo Hamiltoniano é sempre encontrável para um grafo denso de 3 ou mais vértices. Para encontrá-lo, é necessário receber como parâmetro do algoritmo o grafo em que se deseja encontrar um ciclo Hamiltoniano e o algoritmo deverá retornar um ciclo assim nele.</p>\n",
    "<p>Para encontrar esse ciclo, parte-se do princípio da prova indutiva: caso o grafo possua um número de arestas $k$ menor que o número de arestas de um grafo completo da mesma quantidade de vértices, pode-se encontrar um ciclo Hamiltoniano nele em função de um ciclo Hamiltoniano já previamente conhecido existente num grafo similar, porém com uma aresta a mais. No caso do grafo ser completo, pode-se encontrar um ciclo Hamiltoniano trivialmente seguindo um caminho qualquer que passa por cada vértice uma vez, retornando ao vértice inicial. Em nosso caso base, definimos esse caminho partindo do vértice 1 até o último vértice $n$, retornando então ao vértice 1.</p>\n",
    "<p>Como isso é possível para qualquer número de vértices $n$ fixo, com $n >= 3$, para encontrar um ciclo Hamiltoniano num grafo de $k$ arestas, deve-se adicionar uma aresta a ele e encontrar um ciclo Hamiltoniano nesse outro grafo \"maior\". Um ciclo no grafo maior pode ser encontrado da mesma maneira, recursivamente, pois ao adicionar uma aresta ao grafo ele permanece sendo denso. Adicionar arestas assim é útil, pois se conhece o caso base do grafo completo, que possui o maior número de arestas possível. Então cada grafo em que se encontra um ciclo Hamiltoniano permite se encontrar um ciclo no grafo anterior a ele, que possui uma aresta a menos mas que ainda é denso.</p>\n",
    "<p>O algoritmo então será implementado de maneira recursiva.</p>"
   ]
  },
  {
   "cell_type": "markdown",
   "metadata": {},
   "source": [
    "<h3>Descrição informal do algoritmo:</h3>\n",
    "<p>O algoritmo recebe um grafo, admitidamente denso, cujo número de vértices é maior ou igual a 3 e deve retornar um ciclo Hamiltoniano nele.</p>\n",
    "<p>O algoritmo deverá checar então se o grafo recebido é completo. Em caso positivo, retornará um ciclo trivial predefinido que começa no vértice 1 e vai até o último vértice $n$, retornando ao vértice 1. Esse é o caso base da recursão.</p>\n",
    "<p>Se o grafo recebido não for o caso base (completo), então ele possuirá pelo menos 2 vértices que não estão conectados. O algoritmo inicia no vértice 1 e procura todas as arestas que saem dele, checando se ele está conectado a cada outro vértice do grafo a partir do vértice 2 e assim por diante. Em seguida ele vai para o vértice 2 e procura uma aresta entre ele e cada vértice de número maior que ele. O algoritmo não precisa testar se o vértice 2 está ligado ao vértice anterior (1), pois isso já foi testado. A busca segue assim por diante, até que se encontra uma aresta inexistente. Nesse momento, o algoritmo cria um novo grafo que possui essa aresta faltante (deve existir pelo menos uma aresta faltante num grafo não completo).</p>\n",
    "<p>Com o grafo \"maior\" criado, o algoritmo chama-se recursivamente para encontrar um ciclo Hamiltoniano $H$ no grafo maior. Após o retorno desse ciclo, deve-se checar sua usabilidade no grafo original. Há duas opções: a aresta que foi adicionada para criar o grafo maior pode ou não fazer parte do ciclo $H$. Se a aresta não faz parte do ciclo $H$, o algoritmo usa o mesmo ciclo H como um ciclo que serve para o grafo original. Se a aresta faz parte do ciclo $H$, então o algoritmo pega os vértices $v$ e $w$ que estão desconectados no grafo original e conectados no grafo maior de maneira que $w$ está imediatamente após $v$ no ciclo $H$ e faz o seguinte:</p>\n",
    "<p>Para cada vizinho do vértice $v$, procura em cada vizinho do vértice $w$ um vértice que esteja conectado a ele através de uma aresta que faça parte do ciclo $H$. Caso encontre, o algoritmo testa ainda se a ocorrência do vizinho de $w$ no ciclo $H$ seja imediatamente após a ocorrência do vizinho de $v$ no ciclo. Em caso positivo, essa será a dupla de vizinhos de $v$/$w$ escolhida. Como demonstrado na prova por indução, sempre deve haver uma dupla de vizinhos que satisfaça tal condição  encontrável.</p>\n",
    "<p>Com a dupla de vizinhos de $v$/$w$ encontrada, que são denominados, respectivamente, de $i$,$i+1$, define-se um ciclo Hamiltoniano $C$ no grafo original em função do ciclo $H$ do grafo maior da seguinte maneira: dos vértices $i+1$ até o vértice $v$ em $H$, o ciclo mantém-se igual em $C$. Após o vértice $v$, o ciclo $C$ irá para o vértice $i$ e seguirá no sentido contrário do ciclo $H$, do vértice $i$ até o vértice $w$. Após o vértice $w$, o ciclo $C$ retorna para o vértice $i+1$, fechando-o como um ciclo Hamiltoniano no grafo original.</p>\n",
    "<p>Após isso, então, um ciclo Hamiltoniano foi encontrado no grafo original passado ao algoritmo e é ele que é retonado.</p>"
   ]
  },
  {
   "cell_type": "code",
   "execution_count": 2,
   "metadata": {
    "collapsed": false
   },
   "outputs": [
    {
     "name": "stdout",
     "output_type": "stream",
     "text": [
      "[12, 18, 4, 17, 14, 15, 16, 3, 7, 6, 1, 19, 13, 8, 9, 10, 11, 2, 20, 5]\n"
     ]
    }
   ],
   "source": [
    "import sys\n",
    "\n",
    "# Recebe um grafo e diz se ele é completo ou não\n",
    "def Verificar_Completo(grafo,verts):\n",
    "    for i in range(1,verts+1):\n",
    "        vertice=grafo[i]\n",
    "        for j in range(i+1,verts+1):\n",
    "            if(j not in vertice):\n",
    "                return 0 #nao e completo\n",
    "    return 1 #e completo\n",
    "           \n",
    "# função que chama recursiva para calcular o ciclo e retorna o ciclo Hamiltoniano de um grafo cujo nome de arquivo é passado\n",
    "def Ciclo_Hamiltoniano(nome):\n",
    "    grafo,verts,ed=RetornaGrafo(nome) #obtem o grafo do arquivo .txt\n",
    "    ciclo=Obtem_Ciclo_Rec(grafo,verts) #obtem o ciclo do grafo em questão\n",
    "    return ciclo\n",
    "\n",
    "#recebe o path do arquivo e retorna o grafo no formato de um dicionario,o numero de arestas e o numero de vertices dele\n",
    "def RetornaGrafo(nome): \n",
    "    dict={}\n",
    "    with open(nome, 'r') as f:\n",
    "        primeira_linha=f.readline()\n",
    "        split=primeira_linha.split()\n",
    "        numverts=int(split[0])  #le o numero de vertices do grafo\n",
    "        numedges=int(split[1])  #le o numero de arestas do grafo\n",
    "        for j in range(1,numverts+1):  \n",
    "            dict[j]=[]\n",
    "        data = f.readlines()\n",
    "        for line in data:\n",
    "            words = line.split()\n",
    "            dict[int(words[0])].append(int(words[1])) #preenche o dicionario com os vizinhos de cada vertice\n",
    "            dict[int(words[1])].append(int(words[0]))\n",
    "    return dict,numverts,numedges\n",
    "\n",
    "#Retorna o índice de uma lista após um deslocamento de um índice inicial. O deslocamento é circular, o que significa que \n",
    "#se ultrapassar o final da lista, vlta ao início e vice-versa\n",
    "def Move_Indice_Circular(indice,deslocamento,verts):\n",
    "    indice+=deslocamento\n",
    "    if(deslocamento>0 and indice >=verts):\n",
    "        indice=indice%verts\n",
    "    elif(deslocamento<0 and indice<0):\n",
    "        while(indice<0):\n",
    "            indice+=verts\n",
    "    if(indice<0 or indice>=verts):\n",
    "        print(\"Inconsistencia-impossivel\")\n",
    "        sys.exit(0)\n",
    "    return indice    \n",
    "\n",
    "# Recebe um ciclo Hamiltoniano e verifica se os vertices i e j estão ligados no ciclo, retornando -1, -1 caso não sejam\n",
    "# vizinhos no ciclo ou retornando o anterior, posterior na ordem que ocorrem no ciclo, caso sejam vizinhos.\n",
    "def Aresta_Pertence_Ciclo(ciclo,i,j,verts): \n",
    "    ant=-1\n",
    "    dep=-1\n",
    "    for k in range(verts):\n",
    "        k_prox=Move_Indice_Circular(k,1,verts)\n",
    "        if(ciclo[k]==i and ciclo[k_prox]==j):\n",
    "            ant=i\n",
    "            dep=j\n",
    "            break\n",
    "        elif((ciclo[k]==j) and (ciclo[k_prox]==i)):\n",
    "            ant=j\n",
    "            dep=i\n",
    "            break\n",
    "    return ant,dep\n",
    "\n",
    "        \n",
    "# Função que recebe um ciclo do qual se tirou uma aresta e cria um novo ciclo, remendando o original\n",
    "# segundo o que está explicado na prova por indução (reverte parte do ciclo original)\n",
    "def Cruza_Ciclo(ciclo,w,i_mais_um,verts):\n",
    "    for i in range(verts):\n",
    "        if(ciclo[i]==i_mais_um):\n",
    "            pos_i_mais_um=i\n",
    "    pos_ciclo=pos_i_mais_um\n",
    "    novo_ciclo=[]\n",
    "    while(ciclo[pos_ciclo]!=w):\n",
    "        novo_ciclo.append(ciclo[pos_ciclo])\n",
    "        pos_ciclo=Move_Indice_Circular(pos_ciclo,1,verts)\n",
    "    pos_ciclo=Move_Indice_Circular(pos_i_mais_um,-1,verts)\n",
    "    while(ciclo[pos_ciclo]!=w):\n",
    "        novo_ciclo.append(ciclo[pos_ciclo])\n",
    "        pos_ciclo=Move_Indice_Circular(pos_ciclo,-1,verts)\n",
    "    novo_ciclo.append(ciclo[pos_ciclo])\n",
    "    return novo_ciclo\n",
    "\n",
    "#funcao recursiva que retorna o ciclo hamiltoniano de um grafo\n",
    "def Obtem_Ciclo_Rec(grafo,verts):\n",
    "    grafo_maior=grafo.copy()\n",
    "    for i in range(1,verts+1):\n",
    "        grafo_maior[i]=grafo[i][:]\n",
    "    if(Verificar_Completo(grafo,verts)==1): #Caso base\n",
    "        ciclo=[]\n",
    "        for i in range(1,verts+1):\n",
    "            ciclo.append(i) #um ciclo hamiltoniano de um grafo completo e simplesmente uma lista contendo todos os seus vértices\n",
    "        return ciclo\n",
    "    adicionei_aresta=0\n",
    "    for i in range(1,verts+1): #adicionamos a primeira aresta faltante ao grafo\n",
    "        vertice=grafo_maior[i]\n",
    "        for j in range(i+1,verts+1):\n",
    "            if(j not in vertice):\n",
    "                vertice.append(j)\n",
    "                grafo_maior[j].append(i)\n",
    "                adicionei_aresta=1\n",
    "                break\n",
    "        if(adicionei_aresta==1):\n",
    "            break\n",
    "    if(adicionei_aresta==0): # Se não houver encontrado arestas faltantes\n",
    "        print(\"Inconsistencia:grafo e completo\")\n",
    "        sys.exit(0)\n",
    "    ciclo=Obtem_Ciclo_Rec(grafo_maior,verts) # Chamamos a função novamente passando o grafo maior\n",
    "    achou_vizinho=0\n",
    "    v,w=Aresta_Pertence_Ciclo(ciclo,i,j,verts)\n",
    "    if(v!=-1 and w!=-1): # Se a aresta retirada está no ciclo\n",
    "        vizinhos_v=grafo_maior[v] #vizinhos do no que vem antes\n",
    "        vizinhos_w=grafo_maior[w] #vizinhos do no que vem depois \n",
    "        qtd_viz_v=len(vizinhos_v)\n",
    "        qtd_viz_w=len(vizinhos_w)\n",
    "        for g in range(qtd_viz_v):    \n",
    "            for q in range(qtd_viz_w):\n",
    "                # verificamos todos os vizinhos dos vertices v e w, de modo a encontrar uma aresta que ligue\n",
    "                # dois vizinhos(um de v e outro de w)\n",
    "                i,i_mais_um=Aresta_Pertence_Ciclo(ciclo,vizinhos_v[g],vizinhos_w[q],verts)\n",
    "                if(i!=-1 and i_mais_um!=-1):\n",
    "                    # Verificamos se os vizinhos de v e w sejam tais que seja possivel modificar o ciclo atual\n",
    "                    # (formando um X (xis) conforme explicado na prova por indução)\n",
    "                    if((vizinhos_w[q]==i_mais_um) and (vizinhos_v[g]==i)):\n",
    "                        achou_vizinho=1\n",
    "                        break\n",
    "            if(achou_vizinho==1):\n",
    "                break\n",
    "        if(achou_vizinho==0): # Se não encontrou i e i+1 que são vizinhos e atendem as condições requeridas\n",
    "            print(\"Inconsistencia-era para ter achado\")\n",
    "            sys.exit(0)\n",
    "        ciclo=Cruza_Ciclo(ciclo,w,i_mais_um,verts) # Remenda o ciclo sem usar a aresta retirada\n",
    "    return ciclo\n",
    "\n",
    "arq=\"hamilton-instances/hamilton_20_1.txt\"       \n",
    "print(Ciclo_Hamiltoniano(arq))"
   ]
  },
  {
   "cell_type": "markdown",
   "metadata": {},
   "source": [
    "<h3>Comentários de desenvolvimento</h3>\n",
    "<p>O grafo é recebido em arquivo.txt e salvo como um dicionário: cada chave representa um vértice e a ele está associada uma lista que representa as arestas às quais está ligado. O grafo é não orientado, então se o vértice 4  está ligado ao 3 então o 3 está ligado ao 4.</p>\n",
    "<p>A função que calcula o ciclo Hamiltoniano de um grafo recebido retorna uma lista de vértices que contém exatamente uma vez cada vértice do grafo. O ciclo Hamiltoniano representado por essa lista é o caminho que começa no primeiro vértice, passa na ordem por cada vértice da lista e após o último vértice, volta para o primeiro.</p>\n",
    "<p>Estamos assumindo que os grafos recebidos pela função são grafos densos de |V| >= 3</p>\n",
    "<p>A função recursiva copia o grafo para que se possa adicionar arestas sem modificar o original</p>\n",
    "<p>O número de execuções dentro de um intervalo de 5 segundos decresce quando se aumenta o número de vértices do grafo.</p>\n",
    "<p>Quanto mais arestas possuir e mais denso o grafo for, mais rápida a execução pois o caso base é o completo</p>\n",
    "<p>Para grafos das instâncias disponibilizadas para testes de 100 vértices para cima já não foi possível realizar os testes porque o número de chamadas recursivas não é suportada pelo python. O nosso algoritmo não é otimizado. Há maneiras de otimizar, tal que você não precise de um grafo completo para encontrar um ciclo Hamiltoniano trivialmente, mas para isso precisaria ser feita uma busca em profundidade e diversas alterações no algoritmo.<\\p>"
   ]
  },
  {
   "cell_type": "markdown",
   "metadata": {},
   "source": [
    "<h3>Testes de execução:</h3>\n",
    "\n",
    "<p>hamilton-instances/hamilton_10_1.txt\n",
    "<br />Ciclo Hamiltoniano retornado pela função->[10, 2, 8, 4, 1, 9, 6, 7, 3, 5]\n",
    "<br />Tempo total:5 segundos\n",
    "<br />Número de execuções 2284,2102,2339,2188-->Media:2228\n",
    "<br />Tempo em média de cada execução:5/2755=0,002 segundo</p>\n",
    "\n",
    "<p>hamilton-instances/hamilton_20_1.txt\n",
    "<br />Ciclo Hamiltoniano retornado pela função->[12, 18, 4, 17, 14, 15, 16, 3, 7, 6, 1, 19, 13, 8, 9, 10, 11, 2, 20, 5]\n",
    "<br />Tempo total:5 segundos\n",
    "<br />Número de execuções:233,265,263,265-->Media:256\n",
    "<br />Tempo em média de cada execução:5/256=0,02 segundo</p>\n",
    "\n",
    "<p>hamilton-instances/hamilton_20_2.txt\n",
    "<br />Ciclo Hamiltoniano retornado pela função->[6, 17, 4, 10, 19, 5, 2, 12, 11, 18, 1, 9, 8, 7, 20, 13, 14, 15, 16, 3]\n",
    "<br />Tempo total:5 segundos\n",
    "<br />Número de execuções:242,232,255,255-->Media:246\n",
    "<br />Tempo em média de cada execução:5/246=0,02 segundo</p>\n",
    "\n",
    "<p>hamilton-instances/hamilton_20_3.txt\n",
    "<br />Ciclo Hamiltoniano retornado pela função->[7, 8, 9, 4, 6, 5, 15, 16, 17, 3, 19, 14, 10, 11, 12, 13, 1, 20, 2, 18]\n",
    "<br />Tempo total:5 segundos\n",
    "<br />Número de execuções:290,310,314,305-->Media:304\n",
    "<br />Tempo em média de cada execução:5/304=0,016 segundos</p>\n",
    "\n",
    "<p>hamilton-instances/hamilton_20_4.txt\n",
    "<br />Ciclo Hamiltoniano retornado pela função->[9, 8, 7, 6, 16, 4, 3, 17, 15, 5, 14, 13, 12, 11, 10, 19, 1, 20, 2, 18]\n",
    "<br />Tempo total:5 segundos\n",
    "<br />Número de execuções:194,226,221,230-->Media:217\n",
    "<br />Tempo em média de cada execução:5/217=0,02 segundo</p>\n",
    "\n",
    "<p>hamilton-instances/hamilton_20_5.txt\n",
    "<br />Ciclo Hamiltoniano retornado pela função->[11, 10, 9, 8, 13, 12, 15, 3, 4, 5, 6, 7, 14, 19, 16, 17, 18, 2, 1, 20]\n",
    "<br />Tempo total:5 segundos\n",
    "<br />Número de execuções:289,329,272,298-->Media:297\n",
    "<br />Tempo em média de cada execução:5/297=0,016 segundo</p>\n",
    "\n",
    "<p>hamilton-instances/hamilton_50_1.txt\n",
    "<br />Ciclo Hamiltoniano retornado pela função->[39, 43, 48, 41, 3, 49, 36, 37, 7, 2, 10, 9, 8, 38, 22, 23, 24, 25, 26, 19, 20, 21, 16, 17, 18, 15, 11, 12, 13, 14, 1, 28, 27, 35, 50, 44, 6, 46, 4, 33, 32, 31, 30, 29, 34, 40, 42, 47, 5, 45]\n",
    "<br />Tempo total:5.3 segundos\n",
    "<br />Número de execuções:5,6,6,6-->Media:6\n",
    "<br />Tempo em média de cada execução:5,3/6=0,8 segundo</p>\n",
    "\n",
    "<p>hamilton-instances/hamilton_50_2.txt\n",
    "<br />Ciclo Hamiltoniano retornado pela função->[35, 40, 39, 49, 1, 46, 4, 15, 14, 13, 12, 11, 10, 9, 38, 36, 37, 8, 42, 23, 24, 25, 26, 27, 28, 29, 30, 31, 32, 33, <br />34, 6, 44, 47, 5, 45, 7, 41, 50, 21, 22, 2, 20, 19, 18, 17, 16, 48, 43, 3]\n",
    "<br />Tempo total:5.3 segundos\n",
    "<br />Número de execuções:6,6,6,6-->Media:6\n",
    "<br />Tempo em média de cada execução:5,3/6=0,8 segundo</p>\n",
    "\n",
    "<p>hamilton-instances/hamilton_50_3.txt\n",
    "<br />Ciclo Hamiltoniano retornado pela função->[44, 7, 38, 49, 48, 41, 33, 3, 32, 31, 30, 36, 35, 34, 46, 4, 45, 6, 43, 42, 50, 40, 19, 20, 21, 22, 23, 24, 25, 1, 18, 29, 28, 27, 26, 39, 8, 9, 10, 11, 12, 13, 5, 47, 37, 2, 17, 16, 15, 14]\n",
    "<br />Tempo total:5.5 segundos\n",
    "<br />Número de execuções:6,6,6,6-->Media:6\n",
    "<br />Tempo em média de cada execucão:5.5/6=0,9 segundo</p>\n",
    "\n",
    "<p>hamilton-instances/hamilton_50_4.txt\n",
    "<br />Ciclo Hamiltoniano retornado pela função->[11, 10, 9, 44, 48, 2, 13, 12, 15, 14, 29, 47, 34, 35, 36, 37, 38, 39, 6, 22, 21, 20, 19, 18, 17, 16, 23, 41, 42, 7, 40, 46, 31, 25, 1, 24, 50, 32, 5, 28, 27, 26, 49, 45, 33, 3, 8, 43, 30, 4]\n",
    "<br />Tempo total:5.6 segundos\n",
    "<br />Número de execuções:6,5,5,5-->Media:5\n",
    "<br />Tempo em média de cada execução:5.6/5=1,1 segundo</p>\n",
    "\n",
    "<p>hamilton-instances/hamilton_50_5.txt\n",
    "<br />Ciclo Hamiltoniano retornado pela função->[24, 23, 22, 21, 20, 30, 29, 34, 41, 6, 46, 4, 43, 45, 1, 28, 27, 26, 25, 37, 36, 35, 50, 31, 32, 33, 3, 49, 38, 39, 40, 7, 44, 47, 42, 5, 48, 18, 19, 2, 17, 16, 15, 14, 13, 12, 11, 10, 9, 8]\n",
    "<br />Tempo total:5.6 segundos\n",
    "<br />Número de execuções:6,6,6,5-->Media:6\n",
    "<br />Tempo em média de cada execução:5,6/6=0,9 segundo</p>\n",
    "\n",
    "<p>Arquivos restantes: 100_1,100_2,100_3,100_4,100_5,200_1\n",
    "<br />Algoritmo não rodou (excedeu a capacidade máxima recursiva do python), pois não é otimizado</p>"
   ]
  },
  {
   "cell_type": "markdown",
   "metadata": {},
   "source": [
    "<h2>Questão 3:</h2>\n",
    "<p>**Seja um conjunto de $n$ de equipes $e1,e2,...,en$. Deseja-se construir as $n − 1$ rodadas de um campeonato onde todos jogam contra todos. Assuma que $n = 2^{k}$ para algum $k$. Enuncia-se abaixo o teorema de que sabe-se construir as $n − 1$ rodadas de $n/2$ jogos cada.**</p>\n",
    "<p>**Teorema 3: Sabe-se construir $2^{k} − 1$ rodadas de $2^{k − 1}$ jogos onde cada equipe enfrenta uma equipe diferente em cada rodada.**</p>"
   ]
  },
  {
   "cell_type": "markdown",
   "metadata": {},
   "source": [
    "<h3>Prova do teorema por inducão:</h3>\n",
    "<p>Admitindo $k$ como parâmetro de indução com a restrição $k >= 1$, e definindo o número de equipes $n = 2^{k}$ para o problema, temos:</p>\n",
    "\n",
    "<p>**Na demonstração do teorema, usaremos a seguinte notação:**</p>\n",
    "<p>O conjunto de $2^{k}$ equipes será representado por chaves. Exemplo: $E = \\{e1,e2,e3,e4\\}$ </p>\n",
    "<p>Um jogo entre 2 equipes será representado por parênteses. Exemplo: $(e1,e2)$.</p>\n",
    "<p>Uma rodada é um conjunto de $2^{k-1}$ jogos entre equipes do conjunto $E$, que será representada por colchetes. A primeira rodada, por exemplo, pode ser representada por $r[E]_{1} = [(e_{1},e_{2}),(e_{3},e_{4})]$</p>\n",
    "\n",
    "<p>O teorema a ser provado já está enunciado em função de k:</p>\n",
    "<p>$T(k)$: Com $n = 2^{k}$ equipes, sabe-se construir $2^{k} − 1$ rodadas de $2^{k − 1}$ jogos onde cada equipe enfrenta uma equipe diferente em cada rodada.</p>\n",
    "\n",
    "<h5>Teorema do Caso Base</h5>\n",
    "<p>Seja $k = 1$ (menor valor para o qual o teorema deve ser verdadeiro). Precisamos provar que sabemos construir 1 rodada de 1 jogo. Isso é trivialmente verdadeiro, pois com o conjunto de 2 equipes $\\{e_{1},e_{2}\\}$ teremos somente uma possibilidade de jogo entre elas. A rodada terá o único jogo que ocorre: $[(1,2)]$.</p>\n",
    "\n",
    "<h5>Teorema do Passo Indutivo</h5>\n",
    "<p>Assumindo então que o teorema é válido para um $k$ fixo, devemos ser capazes de provar que o teorema vale também para $k + 1$. Então, temos que:</p>\n",
    "\n",
    "<p>A hipótese indutiva é que vale $T(k)$. Isso significa que se tivermos $n = 2^{k}$ equipes, saberemos construir $r = 2^{k} − 1$ rodadas de $j = 2^{k − 1}$ jogos entre elas. Vamos tentar provar $T(k+1)$:</p>\n",
    "\n",
    "<p>O número de equipes que possuímos é $N = 2^{k+1}$, o número de rodadas será $R = N-1$ de $J = N/2$ jogos. Temos um conjunto de N equipes $E = \\{e_{1},..,e_{N}\\}$. Precisamos calcular cada rodada $r[E]$ de $E$.</p>\n",
    "<p>Se pegarmos todas as equipes e as dividirmos na metade em 2 grupos, teríamos que o conjunto de equipes $E$ original poderia ser particionado em $E1 = \\{e_{1},..,e_{N/2}\\}$ e $E2 = \\{e_{N/2 + 1},..,e_{N}\\}$. Agora, como $n = 2^{k} = N/2 = |E1| = |E2|$ é o número de equipes da hipótese indutiva e a quantidade de elementos em $E1$ e $E2$, então isso significa que conseguimos construir $r$ rodadas de $j$ jogos entre as equipes de $E1$ e $E2$ isoladamente. Teremos todas as $r[E1]_{q}$ e $r[E2]_{q}$, $q=1..r$ definidas. Esses jogos podem ser aproveitados para a construção dos jogos das equipes de $E$, pois todas as equipes de $E1$ e $E2$ estão em $E$. Assim, podemos dizer as primeiras r rodadas $r[E]_{q}$, $q = 1..r$ de $E$ podem ser formadas pela união das rodadas equivalentes de $E1$ e $E2$: $r[E]_{q} = r[E1]_{q} \\cup r[E2]_{q}$. Com essas rodadas calculadas, basta somente terminar de calcular as $R-r$ rodadas restantes.</p>\n",
    "<p>A caracterísca que define as rodadas diferentes é que cada equipe joga com uma equipe diferente que não havia jogado em nenhuma outra rodada. Ao final de todas as rodadas, cada equipe deve ter jogado exatamente uma vez com cada outra equipe. Nas primeiras $r$ rodadas que já encontramos, todas as equipes de $E1$ já jogaram entre si. O mesmo vale para as equipes de E2. Para encontrar as últimas rodadas, então, deve-se garantir apenas que todas as equipes de $E1$ joguem com todas as equipes de $E2$. Se observarmos uma equipe única, como $e_{1}$, podemos fazer ela primeiro jogar com $e_{N/2+1}$, depois com $e_{N/2+2}$ e assim por diante até que jogue com $e_{N}$, encerrando assim a última das $R-r$ rodadas restantes. Isso deve valer simulaneamente para $e_{2}$ e $e_{3}$, que devem primeiro jogar com $e_{N/2+2}$ e $e_{N/2+3}$ e ir incrementando conforme incrementam as rodadas e assim valendo para todas as equipes de $E1$, $E2$. O único problema que surge disso é que quando $e_{g}$ jogar com $e_{N/2+g+i}$ (para um $g$ qualquer e i como a iteração atual), às vezes $N/2+g+i$ ultrapassa $N$. Para resolver isso, quando isso acontecer, só é necessário aplicar um mod que faça a equipe escolhida voltar a ser $e_{N/2}$ quando $e_{N}$ for ultrapassada.</p>\n",
    "<p>Dessa maneira, encontrou-se um jeito simples de montar formar as $R$ rodadas de $E$ equipes, quando se aplica o teorema em $T(k+1)$.</p>"
   ]
  },
  {
   "cell_type": "markdown",
   "metadata": {},
   "source": [
    "<h3>Surgimento / Explicação do algoritmo e descrição informal:</h3>\n",
    "<p>Precisamos, a partir de um $k$, montar o conjunto de equipes $E = \\{e_{1},..,e_{2^{k}}\\}$ e montar $2^{k}-1$ rodadas de jogos entre elas.</p>\n",
    "<p>A partir da repartição das $E$ equipes nas equipes $E1$ e $E2$, o algoritmo deve ser capaz de calcular recursivamente até um caso base (k=1, |E| = 2) as rodadas para as equipes da repartição individualmente. Após isso, pode-se fazer o passo-a-passo indicado na prova por indução para montar as outras rodadas restantes:</p>\n",
    "<p>Na rodada $i$, que começa como 1 e vai até o número de rodadas restantes, cada equipe $e_{g}$ jogará com a equipe $e_{N/2+((g+i) mod N/2)}$. A parte da fórmula $(g+i) mod N/2$ é usada para que após $N = N/2 + N/2$ ser ultrapassado, volte-se a pegar a equipe $N/2 = N/2 + 0$.</p>\n",
    "<p>O caso base do algoritmo é quando há apenas duas equipes, o que torna a única rodada que se deve calcular trivial $[(e_{1},e_{2})]$.</p>\n",
    "<p>Após o cálculo de todas as rodadas para o $k$ passado, retorna-se a disposição de jogos de cada rodada.</p>"
   ]
  },
  {
   "cell_type": "code",
   "execution_count": 3,
   "metadata": {
    "collapsed": false
   },
   "outputs": [
    {
     "name": "stdout",
     "output_type": "stream",
     "text": [
      "Rodada 1: [[1, 2], [3, 4], [5, 6], [7, 8]]\n",
      "\n",
      "Rodada 2: [[1, 3], [2, 4], [5, 7], [6, 8]]\n",
      "\n",
      "Rodada 3: [[1, 4], [2, 3], [5, 8], [6, 7]]\n",
      "\n",
      "Rodada 4: [[1, 5], [2, 6], [3, 7], [4, 8]]\n",
      "\n",
      "Rodada 5: [[1, 6], [2, 7], [3, 8], [4, 5]]\n",
      "\n",
      "Rodada 6: [[1, 7], [2, 8], [3, 5], [4, 6]]\n",
      "\n",
      "Rodada 7: [[1, 8], [2, 5], [3, 6], [4, 7]]\n",
      "\n"
     ]
    }
   ],
   "source": [
    "#Função que imprime uma matriz de rodadas\n",
    "def printMatrix(A):\n",
    "    for i in range(len(A)):\n",
    "        print (\"Rodada \" + str(i+1)+ \": \"+ str(A[i]) +\"\\n\")\n",
    "\n",
    "#Função que altera o número de equipes de uma rodada de 1 até n para n + 1 até 2n        \n",
    "def mudarNumEqDup(rodada):\n",
    "    qtdJogos = len(rodada)\n",
    "    qtdEquipes = qtdJogos * 2\n",
    "    \n",
    "    #Copia a matriz de rodadas para uma nova matriz\n",
    "    novaRodada = rodada[:]\n",
    "    for i in range(qtdJogos):\n",
    "        novaRodada[i] = rodada[i][:]\n",
    "    \n",
    "    #Aumenta o valor do número das equipes em n\n",
    "    for i in range(qtdJogos):\n",
    "        jogo = novaRodada[i]\n",
    "        jogo[0] += qtdEquipes\n",
    "        jogo[1] += qtdEquipes\n",
    "    return novaRodada\n",
    "\n",
    "#Função que calcula a matriz de rodadas de n equipes\n",
    "def calcularRodadasEquipes(k):\n",
    "    numEq = 2**k\n",
    "    \n",
    "    #Se estamos no caso base n = 2\n",
    "    if (k == 1):\n",
    "        #Então temos o jogo [1,2] e a rodada [[1,2]]\n",
    "        return [[[1, 2]]]\n",
    "    #Se não, continuamos calculando a matriz de rodadas de n equipes em função da equipe anterior\n",
    "    \n",
    "    matrizRodadas = []\n",
    "    \n",
    "    #Pega todas as rodadas da equipe anterior\n",
    "    rodadasAntes = calcularRodadasEquipes(k - 1)\n",
    "    \n",
    "    #Cria as primeiras rodadas da matriz de rodadas de n equipes\n",
    "    for i in range(len(rodadasAntes)):\n",
    "        #Pega os jogos da rodada i da equipe anterior\n",
    "        rodadasEsq = rodadasAntes[i]\n",
    "        #Cria os jogos da rodada i das \"próximas\" equipes\n",
    "        rodadasDir = mudarNumEqDup(rodadasAntes[i])\n",
    "        #Junta os jogos da rodada i da equipe anterior com os das \"próximas\" equipes formando a rodada i de n equipes\n",
    "        matrizRodadas.append(rodadasEsq + rodadasDir)\n",
    "        \n",
    "    todasEquipes = range(1, numEq + 1)\n",
    "    \n",
    "    #Define as rodadas que ainda falta criar para a matriz de rodadas de n equipes\n",
    "    numNovasRodadas = numEq / 2\n",
    "    numNovasRodadas=int(numNovasRodadas)\n",
    "    \n",
    "    #Cria um vetor de novas rodadas para armazenar os jogos restantes\n",
    "    novasRodadas = []\n",
    "    \n",
    "    #Cria os jogos restantes combinando as equipes com as \"próximas\" equipes\n",
    "    for j in range(numNovasRodadas):\n",
    "        rodada = []\n",
    "        for i in range(numNovasRodadas):\n",
    "            rodada.append([todasEquipes[i], todasEquipes[numNovasRodadas + ((i+j) % numNovasRodadas)]])\n",
    "        novasRodadas.append(rodada)\n",
    "    \n",
    "    #Adiciona as novas rodadas criadas na matriz de rodadas de n equipes\"\n",
    "    for i in range(len(novasRodadas)):\n",
    "        matrizRodadas.append(novasRodadas[i])\n",
    "    \n",
    "    return matrizRodadas\n",
    "\n",
    "printMatrix(calcularRodadasEquipes(3))"
   ]
  },
  {
   "cell_type": "markdown",
   "metadata": {},
   "source": [
    "<h3>Comentários de desenvolvimento</h3>\n",
    "<p>Usamos uma matriz de listas para representar as rodadas que devem ser encontradas. Nela, cada lista que é uma entrada da matriz é uma lista de 2 equipes e representa um jogo entre as equipes. Cada linha da matriz representará uma rodada e por isso, em cada coluna, há um jogo. Essa matriz terá então 2^{k}-1 linhas e 2^{k-1} colunas.</p>\n",
    "<p>A função calcularRodadasEquipes, que calcula as rodadas recebe apenas o número k e cria as equipes, representadas por números (uma enumeração das equipes), sendo auxiliada pela função mudarNumEqDup.</p>\n",
    "<p>À medida que se aumenta o número de equipes, diminui-se o número de execuções até alcançar um limite de uma única execução. Em k = 13, o tempo de processamento para obter as rodadas foi superior a 3 minutos. Para k = 14, não relizamos nenhum teste completo em menos de 5 minutos.</p>"
   ]
  },
  {
   "cell_type": "markdown",
   "metadata": {},
   "source": [
    "<h3>Testes de Execução:</h3>\n",
    "<p>$k=1$ (2 equipes)\n",
    "<br />Tempo total:5 segundos\n",
    "<br />Número de execuções:753754,756997,799852,766260-->Media:769215\n",
    "<br />Tempo em média de cada execução:5/769215=6 microssegundos</p>\n",
    "    \n",
    "<p>$k=2$ (4 equipes)\n",
    "<br />Tempo total:5 segundos\n",
    "<br />Número de execuções:289514,307847,311990,306958-->Media:304077\n",
    "<br />Tempo em média de cada execução:5/304077=16 microssegundos</p>\n",
    "\n",
    "<p>$k=3$ (8 equipes)\n",
    "<br />Tempo total:5 segundos\n",
    "<br />Número de execuções:72493,65746,72811,62154-->Media:68301\n",
    "<br />Tempo em média de cada execução:5/63801=73 microssegundos</p>\n",
    "\n",
    "<p>$k=4$ (16 equipes)\n",
    "<br />Tempo total:5 segundos\n",
    "<br />Número de execuções:20895,13628,16479,14519-->Media:16290\n",
    "<br />Tempo em média de cada execução:5/16290=0,3 milissegundos</p>\n",
    "\n",
    "<p>$k=5$ (32 equipes)\n",
    "<br />Tempo total:5 segundos\n",
    "<br />Número de execuções:7805,7357,8734,8478-->Media:8093\n",
    "<br />Tempo em média de cada execução:5/8093=0,6 milissegundos</p>\n",
    "\n",
    "<p>$k=6$ (64 equipes)\n",
    "<br />Tempo total:5 segundos\n",
    "<br />Número de execuções:1153,996,1162,1293-->Media:1151\n",
    "<br />Tempo em média de cada execução:5/1151=4 milissegundos</p>\n",
    "\n",
    "<p>$k=7$ (128 equipes)\n",
    "<br />Tempo total:5 segundos\n",
    "<br />Número de execuções:148,145,167,164-->Media:156\n",
    "<br />Tempo em média de cada execução:5/156=0,03 segundo</p>\n",
    "\n",
    "<p>$k=8$ (256 equipes)\n",
    "<br />Tempo total:5.1 segundos\n",
    "<br />Número de execuções:39,37,40,40-->Media:39\n",
    "<br />Tempo em média de cada execução:5.1/39=0,12 segundo</p>\n",
    "\n",
    "<p>$k=9$ (512 equipes)\n",
    "<br />Tempo total:5.2 segundos\n",
    "<br />Número de execuções:7,8,8,8-->Media:8\n",
    "<br />Tempo em média de cada execução:5.2/8=0,7 segundo</p>\n",
    "\n",
    "<p>$k=10$ (1024 equipes)\n",
    "<br />Tempo total:6,3 segundos\n",
    "<br />Número de execuções:2,2,2,3-->Media:2\n",
    "<br />Tempo em média de cada execução:6,3/2=3,1 segundos</p>\n",
    "\n",
    "<p>$k=11$ (2048 equipes)\n",
    "<br />Número de execuções:1\n",
    "<br />Tempos totais obtidos:9,12,7,7\n",
    "<br />Média dos tempos obtidos:8,8 segundos</p>\n",
    "\n",
    "<p>$k=12$ (4096 equipes)\n",
    "<br />Número de execuções:1\n",
    "<br />Tempos totais obtidos:32,26,32,32\n",
    "<br />Média dos tempos obtidos:29 segundos</p>\n",
    "\n",
    "<p>$k=13$ (8192 equipes)\n",
    "<br />Número de execuções:1\n",
    "<br />Tempos totais obtidos:280,282,279,280\n",
    "<br />Média dos tempos obtidos:280,25 segundos</p>\n",
    "\n",
    "<p>Para $k>=14$, a execução demorará tempo demais para ser contabilizada.</p>"
   ]
  },
  {
   "cell_type": "markdown",
   "metadata": {},
   "source": [
    "<h3>Comentário sobre os testes de execução</h3>\n",
    "<p>Utilizamos o módulo CPUtimer disponibilizado no site do curso e medimos o tempo de execução das funções de acordo com os seguintes critérios:</p>"
   ]
  },
  {
   "cell_type": "markdown",
   "metadata": {},
   "source": [
    "**Tempo de execução < 5s**"
   ]
  },
  {
   "cell_type": "code",
   "execution_count": null,
   "metadata": {
    "collapsed": true
   },
   "outputs": [],
   "source": [
    "import CPUtimer\n",
    "\n",
    "timer = CPUtimer.CPUTimer()\n",
    "\n",
    "numExecucoes = 0\n",
    "timer.reset()\n",
    "timer.start()\n",
    "tempo = timer.get_time()\n",
    "\n",
    "while(tempo < 5):  \n",
    "    #Colocar aqui a função para medir o tempo de execução\n",
    "    tempo = timer.get_time()\n",
    "    timer.lap()\n",
    "    numExecucoes += 1\n",
    "    \n",
    "timer.stop()\n",
    "print(\"Tempo Total: \" + str( timer.get_time() ) +\" s\")\n",
    "print(\"Número de Execuções: \")\n",
    "print(numExecucoes)"
   ]
  },
  {
   "cell_type": "markdown",
   "metadata": {},
   "source": [
    "**Tempo de execução >= 5s**"
   ]
  },
  {
   "cell_type": "code",
   "execution_count": null,
   "metadata": {
    "collapsed": true
   },
   "outputs": [],
   "source": [
    "import CPUtimer\n",
    "\n",
    "timer = CPUtimer.CPUTimer()\n",
    "\n",
    "timer.reset()\n",
    "timer.start()\n",
    "\n",
    "#Colocar aqui a função para medir o tempo de execução\n",
    "    \n",
    "timer.stop()\n",
    "print(\"Tempo Total: \" + str( timer.get_time() ) +\" s\")"
   ]
  }
 ],
 "metadata": {
  "kernelspec": {
   "display_name": "Python 2",
   "language": "python",
   "name": "python2"
  },
  "language_info": {
   "codemirror_mode": {
    "name": "ipython",
    "version": 2
   },
   "file_extension": ".py",
   "mimetype": "text/x-python",
   "name": "python",
   "nbconvert_exporter": "python",
   "pygments_lexer": "ipython2",
   "version": "2.7.13"
  }
 },
 "nbformat": 4,
 "nbformat_minor": 2
}
